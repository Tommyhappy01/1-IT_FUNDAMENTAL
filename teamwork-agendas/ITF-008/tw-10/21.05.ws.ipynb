{
 "cells": [
  {
   "cell_type": "code",
   "execution_count": 12,
   "metadata": {},
   "outputs": [
    {
     "name": "stdout",
     "output_type": "stream",
     "text": [
      "13\n"
     ]
    }
   ],
   "source": [
    "\n",
    "def san(x):\n",
    "    print(x+1)\n",
    "x=-2\n",
    "x=4\n",
    "san(12)"
   ]
  },
  {
   "cell_type": "code",
   "execution_count": 13,
   "metadata": {},
   "outputs": [
    {
     "name": "stdout",
     "output_type": "stream",
     "text": [
      "3\n",
      "1\n"
     ]
    }
   ],
   "source": [
    "def foo(fname, val):\n",
    "    print(fname(val))\n",
    "foo(max, [1, 2, 3])\n",
    "foo(min, [1, 2, 3])"
   ]
  },
  {
   "cell_type": "code",
   "execution_count": 2,
   "metadata": {},
   "outputs": [
    {
     "name": "stdout",
     "output_type": "stream",
     "text": [
      "25\n"
     ]
    }
   ],
   "source": [
    "a=10\n",
    "globals()['a']=25\n",
    "print(a)"
   ]
  },
  {
   "cell_type": "code",
   "execution_count": 14,
   "metadata": {},
   "outputs": [
    {
     "data": {
      "text/plain": [
       "\"Return the dictionary containing the current scope's global variables.\\n\\nNOTE: Updates to this dictionary *will* affect name lookups in the current\\nglobal scope and vice-versa.\""
      ]
     },
     "execution_count": 14,
     "metadata": {},
     "output_type": "execute_result"
    }
   ],
   "source": [
    "globals.__doc__"
   ]
  },
  {
   "cell_type": "code",
   "execution_count": null,
   "metadata": {},
   "outputs": [],
   "source": [
    "4.How are default arguments specified in the function heading?\n",
    "A. identifier followed by an equal to sign and the default value\n",
    "B. identifier followed by the default value within backticks (“)\n",
    "C. identifier followed by the default value within square brackets ([])\n",
    "D. identifier\n",
    "cevap A"
   ]
  },
  {
   "cell_type": "code",
   "execution_count": 15,
   "metadata": {},
   "outputs": [
    {
     "name": "stdout",
     "output_type": "stream",
     "text": [
      "False True\n"
     ]
    }
   ],
   "source": [
    "f=lambda x:bool(x%2)\n",
    "print(f(20), f(21))"
   ]
  },
  {
   "cell_type": "code",
   "execution_count": null,
   "metadata": {},
   "outputs": [],
   "source": [
    "6. Which of the following is delivered at the end of the Sprint?\n",
    "A. A document containing test cases for the current sprint\n",
    "B. An architectural design of the solution\n",
    "C. An increment of Done software\n",
    "D. Wireframes designs for User Interface\n",
    "cevap C"
   ]
  },
  {
   "cell_type": "code",
   "execution_count": null,
   "metadata": {},
   "outputs": [],
   "source": [
    "In an Agile environment, what is the main responsibility of a tester?\n",
    "A. Create test scenarios and test cases\n",
    "B. Finding bugs\n",
    "C. Create automation scripts\n",
    "D. There is no role as a Tester in Scrum\n",
    "cevap D"
   ]
  },
  {
   "cell_type": "code",
   "execution_count": null,
   "metadata": {},
   "outputs": [],
   "source": [
    "When is a Sprint Retrospective ceremony performed?\n",
    "A. Whenever the team suggests\n",
    "B. At the end of each Sprint\n",
    "C. Whenever the Product Owner suggests\n",
    "D. Whenever the Scrum Master suggests\n",
    "cevap B"
   ]
  },
  {
   "cell_type": "code",
   "execution_count": null,
   "metadata": {},
   "outputs": [],
   "source": [
    "9. Who is responsible to measure the Project’s performance?\n",
    "A. The Scrum Master\n",
    "B. The Product Owner\n",
    "C. The Scrum Team\n",
    "D. The Development Team\n",
    "cevap B"
   ]
  },
  {
   "cell_type": "code",
   "execution_count": 1,
   "metadata": {},
   "outputs": [
    {
     "ename": "SyntaxError",
     "evalue": "invalid syntax (<ipython-input-1-b5db11318c78>, line 2)",
     "output_type": "error",
     "traceback": [
      "\u001b[1;36m  File \u001b[1;32m\"<ipython-input-1-b5db11318c78>\"\u001b[1;36m, line \u001b[1;32m2\u001b[0m\n\u001b[1;33m    A. Facilitating meeting as and when requested\u001b[0m\n\u001b[1;37m                    ^\u001b[0m\n\u001b[1;31mSyntaxError\u001b[0m\u001b[1;31m:\u001b[0m invalid syntax\n"
     ]
    }
   ],
   "source": [
    "Which one is not one of the main responsibilities of a Scrum Master?\n",
    "A. Facilitating meeting as and when requested\n",
    "B. Consulting the Development Team and Product Owner\n",
    "C. Bridging the Gap between the Team and the Customer\n",
    "D. Removing Impediments\n",
    "cevap "
   ]
  },
  {
   "cell_type": "code",
   "execution_count": null,
   "metadata": {},
   "outputs": [],
   "source": []
  }
 ],
 "metadata": {
  "kernelspec": {
   "display_name": "Python 3",
   "language": "python",
   "name": "python3"
  },
  "language_info": {
   "codemirror_mode": {
    "name": "ipython",
    "version": 3
   },
   "file_extension": ".py",
   "mimetype": "text/x-python",
   "name": "python",
   "nbconvert_exporter": "python",
   "pygments_lexer": "ipython3",
   "version": "3.8.5"
  }
 },
 "nbformat": 4,
 "nbformat_minor": 4
}

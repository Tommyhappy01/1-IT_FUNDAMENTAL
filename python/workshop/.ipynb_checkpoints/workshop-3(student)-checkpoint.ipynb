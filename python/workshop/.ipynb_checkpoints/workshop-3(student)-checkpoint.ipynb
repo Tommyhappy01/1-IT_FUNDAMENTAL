{
 "cells": [
  {
   "cell_type": "markdown",
   "metadata": {},
   "source": [
    "<center><img src=\"https://github.com/aaron-clarusway/fullstack/blob/master/itf-logo.png?raw=true\"  alt=\"alt text\" width=\"200\"/></center>\n",
    "<br>\n",
    "<h1><p style=\"text-align: center; color:darkblue\">Python Basic & Plus</p><h1>\n",
    "<center><h1>Workshop - 3</h1></center>\n",
    "<p><img align=\"right\"\n",
    "  src=\"https://secure.meetupstatic.com/photos/event/3/1/b/9/600_488352729.jpeg\"  width=\"15px\"></p>\n",
    "<br>\n",
    "\n",
    "\n",
    "# Subject: Collections - Control Flow Statements - Functions"
   ]
  },
  {
   "cell_type": "markdown",
   "metadata": {},
   "source": [
    "## Coding Challenge -1 : Validate Combination of Brackets\n",
    "\n",
    "Purpose of the this coding challenge is to solve a combination problem using loops.\n",
    "\n",
    "### Learning Outcomes\n",
    "\n",
    "At the end of the this coding challenge, students will be able to;\n",
    "\n",
    "- understand the use of loops.\n",
    "- solve the advanced and complicated problems.\n",
    "- understand the importance of pattern recognition.\n",
    "- get a better understanding in manipulating lists or strings.\n",
    "\n",
    "### Problem Statement\n",
    "  \n",
    "- Write a function that given a string containing just the characters `(`, `)`, `{`, `}`, `[` and `]`, determines if the input string is valid or not by using following rules.\n",
    "\n",
    "- An input string is valid if:\n",
    "\n",
    "  - Open brackets must be closed by the same type of brackets.\n",
    "\n",
    "  - Open brackets must be closed in the correct order.\n",
    "\n",
    "- Note that an empty string is also considered valid.\n",
    "\n",
    "- Example for user inputs and respective outputs\n",
    "\n",
    "```bash\n",
    "Input        Output\n",
    "--------:    ------:\n",
    "\"()\"         True\n",
    "\"()[]{}\"     True\n",
    "\"(]\"         False\n",
    "\"([)]\"       False\n",
    "\"{[]}\"       True\n",
    "\"\"           True\n",
    "```"
   ]
  },
  {
   "cell_type": "markdown",
   "metadata": {},
   "source": [
    "### Solution :"
   ]
  },
  {
   "cell_type": "code",
   "execution_count": 50,
   "metadata": {},
   "outputs": [
    {
     "name": "stdout",
     "output_type": "stream",
     "text": [
      "True\n",
      "False\n",
      "False\n",
      "True\n",
      "True\n",
      "False\n"
     ]
    }
   ],
   "source": [
    "def parantez(veri):\n",
    "    pr={\"(\":\")\",\"{\":\"}\",\"[\":\"]\"}\n",
    "    stack = []\n",
    "    left = [i for i in veri if i in pr.keys()]\n",
    "    right = [i for i in veri if i in pr.values()]\n",
    "    if len(left) != len(right) :\n",
    "        return False\n",
    "    elif len(veri) == 0:\n",
    "        return True\n",
    "    else:\n",
    "        for i in veri:\n",
    "            if i in pr:\n",
    "                stack.append(i)\n",
    "            else:\n",
    "                    if i in pr.values():\n",
    "                        if pr[stack[-1]] == i:\n",
    "                            stack.pop()\n",
    "        return not stack\n",
    "print(parantez(\"()\"))\n",
    "print(parantez(\"(]\"))\n",
    "print(parantez(\"([)]\"))\n",
    "print(parantez(\"([]){}\"))\n",
    "print(parantez(\"()[]{}\"))\n",
    "print(parantez(\")[]{}\"))"
   ]
  },
  {
   "cell_type": "markdown",
   "metadata": {},
   "source": [
    "## Coding Challenge - 2: Calculate Stock Profit\n",
    "\n",
    "The purpose of this coding challenge is to write a program that calculates maximum profit you could get from a stock.\n",
    "\n",
    "### Learning Outcomes\n",
    "\n",
    "At the end of this coding challenge, students will be able to;\n",
    "\n",
    "- analyze a problem, identify, and apply programming knowledge for appropriate solution.\n",
    "\n",
    "- design, implement `arithmetic operators` effectively in Python to solve the given problem.\n",
    "\n",
    "- demonstrate their knowledge of algorithmic design principles by solving the problem effectively.\n",
    "\n",
    "### Problem Statement\n",
    "\n",
    "Given an array of numbers representing the stock prices of a company in chronological order, write a function that calculates the maximum profit you could have made from buying and selling that stock once. Note that you must buy before you can sell it.\n",
    "\n",
    "For example, given ``[9, 11, 8, 5, 7, 10]``, you should return 5, since you could buy the stock at 5 dollars and sell it at 10 dollars.\n",
    "\n",
    "Example of different list of stock prices and respective outputs.\n",
    "\n",
    "```bash\n",
    "List = [75,73,60,100,120,130]\n",
    "Output = 70\n",
    "List = [10,20,23,22,17,30]\n",
    "Output = 20\n",
    "List = [1,6,19,59,30,60]\n",
    "Output = 59\n",
    "```"
   ]
  },
  {
   "cell_type": "markdown",
   "metadata": {},
   "source": [
    "### Solution-1 :"
   ]
  },
  {
   "cell_type": "code",
   "execution_count": 61,
   "metadata": {},
   "outputs": [],
   "source": [
    "def buy_and_sell(kar):\n",
    "    buy = min(kar)\n",
    "    sell = max(kar[kar.index(buy):])\n",
    "    return sell-buy"
   ]
  },
  {
   "cell_type": "code",
   "execution_count": 47,
   "metadata": {},
   "outputs": [
    {
     "data": {
      "text/plain": [
       "89"
      ]
     },
     "execution_count": 47,
     "metadata": {},
     "output_type": "execute_result"
    }
   ],
   "source": [
    "buy_and_sell([1,45,6,90,10])"
   ]
  },
  {
   "cell_type": "code",
   "execution_count": null,
   "metadata": {},
   "outputs": [],
   "source": []
  },
  {
   "cell_type": "code",
   "execution_count": 53,
   "metadata": {
    "scrolled": false
   },
   "outputs": [
    {
     "data": {
      "text/plain": [
       "44"
      ]
     },
     "execution_count": 53,
     "metadata": {},
     "output_type": "execute_result"
    }
   ],
   "source": [
    "buy_and_sell([22,33,44,55,66])"
   ]
  },
  {
   "cell_type": "code",
   "execution_count": null,
   "metadata": {},
   "outputs": [],
   "source": []
  },
  {
   "cell_type": "markdown",
   "metadata": {},
   "source": [
    "### Solution-2 :"
   ]
  },
  {
   "cell_type": "code",
   "execution_count": 60,
   "metadata": {},
   "outputs": [
    {
     "data": {
      "text/plain": [
       "240"
      ]
     },
     "execution_count": 60,
     "metadata": {},
     "output_type": "execute_result"
    }
   ],
   "source": [
    "def buy_and_sell(liste):\n",
    "    sonuç = []\n",
    "    for i in range(len(liste)):\n",
    "        sonuç.append(max(liste[i:]) - liste[i])\n",
    "    return(max(sonuç))\n",
    "buy_and_sell([10,52,10,250,35,40,100,55])"
   ]
  },
  {
   "cell_type": "markdown",
   "metadata": {},
   "source": [
    "## Coding Challenge - 3: Morse Translator\n",
    "\n",
    "The purpose of this coding challenge is to write a program that translates the plain text to morse code.\n",
    "\n",
    "### Learning Outcomes\n",
    "\n",
    "At the end of this coding challenge, students will be able to;\n",
    "\n",
    "- Analyze a problem, identify, and apply programming knowledge for an appropriate solution.\n",
    "\n",
    "- Implement loops to solve a problem.\n",
    "\n",
    "- Make use of dictionary data structure to map values. \n",
    "\n",
    "- Demonstrate their knowledge of algorithmic design principles by solving the problem effectively.\n",
    "\n",
    "### Problem Statement\n",
    "\n",
    "Write a function that takes in a plain text as input and converts it into morse alphabet. Following alphabet can be used:\n",
    "\n",
    "```bash\n",
    "{\n",
    "  'A': '.-', 'B': '-...', 'C': '-.-.', 'D': '-..', 'E': '.', 'F': '..-.',\n",
    "  'G': '--.', 'H': '....', 'I': '..', 'J': '.---', 'K': '-.-', 'L': '.-..',\n",
    "  'M': '--', 'N': '-.', 'O': '---', 'P': '.--.', 'Q': '--.-', 'R': '.-.',\n",
    "  'S': '...', 'T': '-', 'U': '..-', 'V': '...-', 'W': '.--', 'X': '-..-',\n",
    "  'Y': '-.--', 'Z': '--..', ' ': ' ', '0': '-----',\n",
    "  '1': '.----', '2': '..---', '3': '...--', '4': '....-', '5': '.....',\n",
    "  '6': '-....', '7': '--...', '8': '---..', '9': '----.',\n",
    "  '&': '.-...', \"'\": '.----.', '@': '.--.-.', ')': '-.--.-', '(': '-.--.',\n",
    "  ':': '---...', ',': '--..--', '=': '-...-', '!': '-.-.--', '.': '.-.-.-',\n",
    "  '-': '-....-', '+': '.-.-.', '\"': '.-..-.', '?': '..--..', '/': '-..-.'\n",
    "}\n",
    "```\n",
    "- Expected Outputs:\n",
    "\n",
    "```bash\n",
    "Input: Hello world!\n",
    "\n",
    "Output:\n",
    ".... . .-.. .-.. ---   .-- --- .-. .-.. -.. -.-.--\n",
    "\n",
    "Input: Good job!\n",
    "\n",
    "Output: --. --- --- -..   .--- --- -... -.-.--\n",
    "```"
   ]
  },
  {
   "cell_type": "markdown",
   "metadata": {},
   "source": [
    "### Solution :"
   ]
  },
  {
   "cell_type": "code",
   "execution_count": 62,
   "metadata": {},
   "outputs": [
    {
     "name": "stdout",
     "output_type": "stream",
     "text": [
      "-.-. .-.. .- .-. ..- ... .-- .- -.-- "
     ]
    }
   ],
   "source": [
    "mors = {\n",
    "  'A': '.-', 'B': '-...', 'C': '-.-.', 'D': '-..', 'E': '.', 'F': '..-.',\n",
    "  'G': '--.', 'H': '....', 'I': '..', 'J': '.---', 'K': '-.-', 'L': '.-..',\n",
    "  'M': '--', 'N': '-.', 'O': '---', 'P': '.--.', 'Q': '--.-', 'R': '.-.',\n",
    "  'S': '...', 'T': '-', 'U': '..-', 'V': '...-', 'W': '.--', 'X': '-..-',\n",
    "  'Y': '-.--', 'Z': '--..', ' ': ' ', '0': '-----',\n",
    "  '1': '.----', '2': '..---', '3': '...--', '4': '....-', '5': '.....',\n",
    "  '6': '-....', '7': '--...', '8': '---..', '9': '----.',\n",
    "  '&': '.-...', \"'\": '.----.', '@': '.--.-.', ')': '-.--.-', '(': '-.--.',\n",
    "  ':': '---...', ',': '--..--', '=': '-...-', '!': '-.-.--', '.': '.-.-.-',\n",
    "  '-': '-....-', '+': '.-.-.', '\"': '.-..-.', '?': '..--..', '/': '-..-.'\n",
    "}\n",
    "\n",
    "def encode_morse(a):\n",
    "    a= a.upper()\n",
    "    for i in a:\n",
    "        print(mors[i], end= \" \")\n",
    "encode_morse(a=\"clarusway\")"
   ]
  },
  {
   "cell_type": "code",
   "execution_count": null,
   "metadata": {},
   "outputs": [],
   "source": []
  },
  {
   "cell_type": "code",
   "execution_count": 52,
   "metadata": {},
   "outputs": [
    {
     "data": {
      "text/plain": [
       "['a', 'b', 'c']"
      ]
     },
     "execution_count": 52,
     "metadata": {},
     "output_type": "execute_result"
    }
   ],
   "source": [
    "a = {1:\"a\",2:\"b\",3:\"c\"}\n",
    "key =list(a.keys())\n",
    "value= list(a.values())\n",
    "value"
   ]
  },
  {
   "cell_type": "code",
   "execution_count": null,
   "metadata": {},
   "outputs": [],
   "source": []
  },
  {
   "cell_type": "markdown",
   "metadata": {},
   "source": [
    "assigment_1"
   ]
  },
  {
   "cell_type": "code",
   "execution_count": 63,
   "metadata": {},
   "outputs": [],
   "source": [
    "def num_total(a,b):\n",
    "    if a==b:\n",
    "        return (a+b)*2\n",
    "    else:\n",
    "        return a+b "
   ]
  },
  {
   "cell_type": "code",
   "execution_count": 64,
   "metadata": {},
   "outputs": [
    {
     "data": {
      "text/plain": [
       "80"
      ]
     },
     "execution_count": 64,
     "metadata": {},
     "output_type": "execute_result"
    }
   ],
   "source": [
    "num_total(20,20)"
   ]
  },
  {
   "cell_type": "code",
   "execution_count": null,
   "metadata": {},
   "outputs": [],
   "source": [
    "assigment_6"
   ]
  },
  {
   "cell_type": "code",
   "execution_count": 3,
   "metadata": {},
   "outputs": [],
   "source": [
    "def prime_num(num):\n",
    "    for i in range(num):\n",
    "        for j in range(i):\n",
    "            if i%j ==0:\n",
    "                print(i, \"Asal sayıdır\", end=\" \")\n",
    "            else:\n",
    "                print(\"Asal sayı değildir.\")"
   ]
  },
  {
   "cell_type": "code",
   "execution_count": null,
   "metadata": {},
   "outputs": [],
   "source": [
    "prime_num(2)"
   ]
  },
  {
   "cell_type": "code",
   "execution_count": null,
   "metadata": {},
   "outputs": [],
   "source": [
    "sayi1 = int(input(\"Sayı 1: \"))\n",
    "sayi2 = int(input(\"Sayı 2: \"))\n",
    " \n",
    "print(sayi1,\"ile\",sayi2,\"arasındaki asal sayılar:\")\n",
    " \n",
    "for sayi in range(sayi1,sayi2 + 1):\n",
    "   if sayi > 1:\n",
    "       for i in range(2,sayi):\n",
    "           if (sayi % i) == 0:\n",
    "               break\n",
    "       else:\n",
    "           print(sayi)"
   ]
  },
  {
   "cell_type": "code",
   "execution_count": 2,
   "metadata": {},
   "outputs": [
    {
     "name": "stdout",
     "output_type": "stream",
     "text": [
      "Sayı 1: 1\n",
      "Sayı 2: 100\n",
      "1 ile 100 arasındaki asal sayılar:\n",
      "2 3 5 7 11 13 17 19 23 29 31 37 41 43 47 53 59 61 67 71 73 79 83 89 97 "
     ]
    }
   ],
   "source": [
    "sayi1 = int(input(\"Sayı 1: \"))\n",
    "sayi2 = int(input(\"Sayı 2: \"))\n",
    " \n",
    "print(sayi1,\"ile\",sayi2,\"arasındaki asal sayılar:\")\n",
    " \n",
    "for sayi in range(sayi1,sayi2 + 1):\n",
    "   if sayi > 1:\n",
    "       for i in range(2,sayi):\n",
    "           if (sayi % i) == 0:\n",
    "               break\n",
    "       else:\n",
    "           print(sayi, end = \" \")"
   ]
  },
  {
   "cell_type": "code",
   "execution_count": null,
   "metadata": {},
   "outputs": [],
   "source": []
  },
  {
   "cell_type": "code",
   "execution_count": null,
   "metadata": {},
   "outputs": [],
   "source": []
  },
  {
   "cell_type": "code",
   "execution_count": null,
   "metadata": {},
   "outputs": [],
   "source": []
  }
 ],
 "metadata": {
  "kernelspec": {
   "display_name": "Python 3",
   "language": "python",
   "name": "python3"
  },
  "language_info": {
   "codemirror_mode": {
    "name": "ipython",
    "version": 3
   },
   "file_extension": ".py",
   "mimetype": "text/x-python",
   "name": "python",
   "nbconvert_exporter": "python",
   "pygments_lexer": "ipython3",
   "version": "3.8.5"
  }
 },
 "nbformat": 4,
 "nbformat_minor": 2
}

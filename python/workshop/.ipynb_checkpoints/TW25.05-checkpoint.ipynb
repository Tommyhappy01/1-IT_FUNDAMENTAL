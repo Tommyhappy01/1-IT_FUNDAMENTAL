{
 "cells": [
  {
   "cell_type": "code",
   "execution_count": 12,
   "metadata": {},
   "outputs": [
    {
     "data": {
      "text/plain": [
       "\"!ey edip ad'anada pide ye\""
      ]
     },
     "execution_count": 12,
     "metadata": {},
     "output_type": "execute_result"
    }
   ],
   "source": [
    "def palindor(a):\n",
    "    return a[::-1]\n",
    "palindor(\"ey edip adana'da pide ye!\")"
   ]
  },
  {
   "cell_type": "code",
   "execution_count": 29,
   "metadata": {},
   "outputs": [
    {
     "name": "stdout",
     "output_type": "stream",
     "text": [
      "Enter sentence: malatya\n",
      "malatya is a palindrome\n"
     ]
    }
   ],
   "source": [
    "s = input(\"Enter sentence: \")\n",
    "if s.isalnum() == s[::-1].isalnum():\n",
    "  print(f\"{s} is a palindrome\")\n",
    "else:\n",
    "  print(f\"{s} is not a palindrome\")"
   ]
  },
  {
   "cell_type": "code",
   "execution_count": 32,
   "metadata": {},
   "outputs": [
    {
     "name": "stdout",
     "output_type": "stream",
     "text": [
      "bir cumle gir: baba\n"
     ]
    },
    {
     "data": {
      "text/plain": [
       "'not palidrome'"
      ]
     },
     "execution_count": 32,
     "metadata": {},
     "output_type": "execute_result"
    }
   ],
   "source": [
    "text = input(\"bir cumle gir: \")\n",
    "def palidrome(text):\n",
    "    if text == text[::-1]:\n",
    "        return f\"palindrom bir cumle ; {text}\"\n",
    "    else:\n",
    "        return \"not palidrome\"\n",
    "palidrome(text)"
   ]
  },
  {
   "cell_type": "code",
   "execution_count": 13,
   "metadata": {},
   "outputs": [
    {
     "ename": "AttributeError",
     "evalue": "'str' object has no attribute 'append'",
     "output_type": "error",
     "traceback": [
      "\u001b[1;31m---------------------------------------------------------------------------\u001b[0m",
      "\u001b[1;31mAttributeError\u001b[0m                            Traceback (most recent call last)",
      "\u001b[1;32m<ipython-input-13-0e2cf0cc63ea>\u001b[0m in \u001b[0;36m<module>\u001b[1;34m\u001b[0m\n\u001b[0;32m      5\u001b[0m         \u001b[0mi\u001b[0m\u001b[1;33m.\u001b[0m\u001b[0mappend\u001b[0m\u001b[1;33m(\u001b[0m\u001b[0mb\u001b[0m\u001b[1;33m)\u001b[0m\u001b[1;33m\u001b[0m\u001b[1;33m\u001b[0m\u001b[0m\n\u001b[0;32m      6\u001b[0m         \u001b[0mb\u001b[0m\u001b[1;33m.\u001b[0m\u001b[0mreversed\u001b[0m\u001b[1;33m(\u001b[0m\u001b[1;33m)\u001b[0m\u001b[1;33m\u001b[0m\u001b[1;33m\u001b[0m\u001b[0m\n\u001b[1;32m----> 7\u001b[1;33m \u001b[0mpalindor\u001b[0m\u001b[1;33m(\u001b[0m\u001b[1;34m\"ey edip adana'da pide ye!\"\u001b[0m\u001b[1;33m)\u001b[0m\u001b[1;33m\u001b[0m\u001b[1;33m\u001b[0m\u001b[0m\n\u001b[0m",
      "\u001b[1;32m<ipython-input-13-0e2cf0cc63ea>\u001b[0m in \u001b[0;36mpalindor\u001b[1;34m(a)\u001b[0m\n\u001b[0;32m      3\u001b[0m     \u001b[0mb\u001b[0m\u001b[1;33m=\u001b[0m\u001b[1;33m[\u001b[0m\u001b[1;33m]\u001b[0m\u001b[1;33m\u001b[0m\u001b[1;33m\u001b[0m\u001b[0m\n\u001b[0;32m      4\u001b[0m     \u001b[1;32mfor\u001b[0m \u001b[0mi\u001b[0m \u001b[1;32min\u001b[0m \u001b[0ma\u001b[0m\u001b[1;33m:\u001b[0m\u001b[1;33m\u001b[0m\u001b[1;33m\u001b[0m\u001b[0m\n\u001b[1;32m----> 5\u001b[1;33m         \u001b[0mi\u001b[0m\u001b[1;33m.\u001b[0m\u001b[0mappend\u001b[0m\u001b[1;33m(\u001b[0m\u001b[0mb\u001b[0m\u001b[1;33m)\u001b[0m\u001b[1;33m\u001b[0m\u001b[1;33m\u001b[0m\u001b[0m\n\u001b[0m\u001b[0;32m      6\u001b[0m         \u001b[0mb\u001b[0m\u001b[1;33m.\u001b[0m\u001b[0mreversed\u001b[0m\u001b[1;33m(\u001b[0m\u001b[1;33m)\u001b[0m\u001b[1;33m\u001b[0m\u001b[1;33m\u001b[0m\u001b[0m\n\u001b[0;32m      7\u001b[0m \u001b[0mpalindor\u001b[0m\u001b[1;33m(\u001b[0m\u001b[1;34m\"ey edip adana'da pide ye!\"\u001b[0m\u001b[1;33m)\u001b[0m\u001b[1;33m\u001b[0m\u001b[1;33m\u001b[0m\u001b[0m\n",
      "\u001b[1;31mAttributeError\u001b[0m: 'str' object has no attribute 'append'"
     ]
    }
   ],
   "source": [
    "def palindor(a):\n",
    "    list(a)\n",
    "    b=[]\n",
    "    for i in a:\n",
    "        i.append(b)\n",
    "        b.reversed()\n",
    "palindor(\"ey edip adana'da pide ye!\")"
   ]
  },
  {
   "cell_type": "code",
   "execution_count": 15,
   "metadata": {},
   "outputs": [
    {
     "name": "stdout",
     "output_type": "stream",
     "text": [
      "<function <lambda> at 0x00000183A2AE6670> ey edip adana'da pide ye! []\n",
      "ey edip adana'da pide ye!\n"
     ]
    }
   ],
   "source": [
    "l = \"ey edip adana'da pide ye!\"\n",
    "print(lambda acc, x: [x] + acc, l, [])\n",
    "print(l)"
   ]
  },
  {
   "cell_type": "code",
   "execution_count": 17,
   "metadata": {},
   "outputs": [
    {
     "name": "stdout",
     "output_type": "stream",
     "text": [
      "Lütfen cümle veya kelime giriniz: ututy\n"
     ]
    },
    {
     "ename": "NameError",
     "evalue": "name 'terscevrilmisversiyonu' is not defined",
     "output_type": "error",
     "traceback": [
      "\u001b[1;31m---------------------------------------------------------------------------\u001b[0m",
      "\u001b[1;31mNameError\u001b[0m                                 Traceback (most recent call last)",
      "\u001b[1;32m<ipython-input-17-aeab9c0c8e97>\u001b[0m in \u001b[0;36m<module>\u001b[1;34m\u001b[0m\n\u001b[0;32m      6\u001b[0m         \u001b[1;32mreturn\u001b[0m \u001b[0mters\u001b[0m\u001b[1;33m\u001b[0m\u001b[1;33m\u001b[0m\u001b[0m\n\u001b[0;32m      7\u001b[0m         \u001b[0mterscevrilmisversiyonu\u001b[0m \u001b[1;33m=\u001b[0m \u001b[0mtersalma\u001b[0m\u001b[1;33m(\u001b[0m\u001b[0mduzyazi\u001b[0m\u001b[1;33m,\u001b[0m \u001b[0mtersyazi\u001b[0m\u001b[1;33m)\u001b[0m\u001b[1;33m\u001b[0m\u001b[1;33m\u001b[0m\u001b[0m\n\u001b[1;32m----> 8\u001b[1;33m \u001b[0mprint\u001b[0m\u001b[1;33m(\u001b[0m\u001b[1;34m\"Ters Çevrilmiş Hali: {} \"\u001b[0m\u001b[1;33m.\u001b[0m\u001b[0mformat\u001b[0m\u001b[1;33m(\u001b[0m\u001b[0mterscevrilmisversiyonu\u001b[0m\u001b[1;33m)\u001b[0m\u001b[1;33m)\u001b[0m\u001b[1;33m\u001b[0m\u001b[1;33m\u001b[0m\u001b[0m\n\u001b[0m",
      "\u001b[1;31mNameError\u001b[0m: name 'terscevrilmisversiyonu' is not defined"
     ]
    }
   ],
   "source": [
    "duzyazi = input(\"Lütfen cümle veya kelime giriniz: \")\n",
    "tersyazi = \"\"\n",
    "def tersalma(yazi, ters):\n",
    "    for i in range(len(yazi) - 1, -1, -1):\n",
    "        ters = ters + yazi[i]\n",
    "        return ters\n",
    "        terscevrilmisversiyonu = tersalma(duzyazi, tersyazi)\n",
    "print(\"Ters Çevrilmiş Hali: {} \".format(terscevrilmisversiyonu))"
   ]
  },
  {
   "cell_type": "code",
   "execution_count": 33,
   "metadata": {},
   "outputs": [
    {
     "name": "stdout",
     "output_type": "stream",
     "text": [
      "Please enter a sentence to check whether it is a palindrome: bursa\n",
      "The sentence is not palindrome\n"
     ]
    }
   ],
   "source": [
    "def isPalindrome(s):\n",
    "    return s == s[::-1]\n",
    "sentence = input(\"Please enter a sentence to check whether it is a palindrome: \")\n",
    "karakterler = []\n",
    "for i in range(len(sentence)):\n",
    "    if sentence[i].isalnum():\n",
    "        karakterler.append(sentence[i])\n",
    "    else:\n",
    "        pass\n",
    "ters_karakterler = isPalindrome(karakterler)\n",
    "if ters_karakterler:\n",
    "    print(\"The sentence is palindrome\")\n",
    "else:\n",
    "    print(\"The sentence is not palindrome\")"
   ]
  },
  {
   "cell_type": "code",
   "execution_count": 34,
   "metadata": {},
   "outputs": [
    {
     "data": {
      "text/plain": [
       "False"
      ]
     },
     "execution_count": 34,
     "metadata": {},
     "output_type": "execute_result"
    }
   ],
   "source": [
    "b = \">\"\n",
    "b.isalnum()"
   ]
  },
  {
   "cell_type": "code",
   "execution_count": 35,
   "metadata": {},
   "outputs": [
    {
     "name": "stdout",
     "output_type": "stream",
     "text": [
      "Please enter a sentence to check whether it is a palindrome: malatya\n",
      "The sentence is not palindrome\n"
     ]
    }
   ],
   "source": [
    "def isPalindrome(cumle):\n",
    "    for i in range(0, int(len(cumle)/2)):\n",
    "        if cumle[i] != cumle[len(cumle)-i-1]:\n",
    "            return False\n",
    "    return True\n",
    "\n",
    "sentence = input(\"Please enter a sentence to check whether it is a palindrome: \")\n",
    "karakterler = []\n",
    "for i in range(len(sentence)):\n",
    "    if sentence[i].isalnum():\n",
    "        karakterler.append(sentence[i])\n",
    "    else:\n",
    "        pass\n",
    "ters_karakterler = isPalindrome(karakterler)\n",
    "if ters_karakterler:\n",
    "    print(\"The sentence is palindrome\")\n",
    "else:\n",
    "    print(\"The sentence is not palindrome\")                      #####################"
   ]
  },
  {
   "cell_type": "code",
   "execution_count": 39,
   "metadata": {},
   "outputs": [],
   "source": [
    "def isPalindrome(cumle):\n",
    "    for i in range(0, int(len(cumle)/2)):\n",
    "        if cumle[i] != cumle[len(cumle)-i-1]:\n",
    "            return False\n",
    "    return True"
   ]
  },
  {
   "cell_type": "code",
   "execution_count": 18,
   "metadata": {},
   "outputs": [
    {
     "ename": "IndentationError",
     "evalue": "expected an indented block (<ipython-input-18-33ce9f557345>, line 3)",
     "output_type": "error",
     "traceback": [
      "\u001b[1;36m  File \u001b[1;32m\"<ipython-input-18-33ce9f557345>\"\u001b[1;36m, line \u001b[1;32m3\u001b[0m\n\u001b[1;33m    palindor(\"ey edip adana'da pide ye!\")\u001b[0m\n\u001b[1;37m    ^\u001b[0m\n\u001b[1;31mIndentationError\u001b[0m\u001b[1;31m:\u001b[0m expected an indented block\n"
     ]
    }
   ],
   "source": [
    "def palindor(a):\n",
    "   \n",
    "palindor(\"ey edip adana'da pide ye!\")"
   ]
  },
  {
   "cell_type": "code",
   "execution_count": 19,
   "metadata": {},
   "outputs": [
    {
     "ename": "IndentationError",
     "evalue": "unexpected indent (<ipython-input-19-a055bb8ab3b1>, line 2)",
     "output_type": "error",
     "traceback": [
      "\u001b[1;36m  File \u001b[1;32m\"<ipython-input-19-a055bb8ab3b1>\"\u001b[1;36m, line \u001b[1;32m2\u001b[0m\n\u001b[1;33m    for item in reversed(array):\u001b[0m\n\u001b[1;37m    ^\u001b[0m\n\u001b[1;31mIndentationError\u001b[0m\u001b[1;31m:\u001b[0m unexpected indent\n"
     ]
    }
   ],
   "source": [
    "array = [1,2,3,4]\n",
    "    for item in reversed(array):\n",
    "        print(item) \n",
    "print(array)"
   ]
  },
  {
   "cell_type": "code",
   "execution_count": 20,
   "metadata": {},
   "outputs": [
    {
     "name": "stdout",
     "output_type": "stream",
     "text": [
      "ey edip\n"
     ]
    }
   ],
   "source": [
    "def reversed_iterator(mylist):\n",
    "    a = reversed(mylist)\n",
    "    print(*a)\n",
    "\n",
    "def reversed_with_list(mylist):\n",
    "    a = list(reversed(mylist))\n",
    "    print(*a)\n",
    "reversed_iterator([\"ey edip\"])"
   ]
  },
  {
   "cell_type": "code",
   "execution_count": 21,
   "metadata": {},
   "outputs": [
    {
     "data": {
      "text/plain": [
       "['!',\n",
       " 'e',\n",
       " 'y',\n",
       " ' ',\n",
       " 'e',\n",
       " 'd',\n",
       " 'i',\n",
       " 'p',\n",
       " ' ',\n",
       " 'a',\n",
       " 'd',\n",
       " \"'\",\n",
       " 'a',\n",
       " 'n',\n",
       " 'a',\n",
       " 'd',\n",
       " 'a',\n",
       " ' ',\n",
       " 'p',\n",
       " 'i',\n",
       " 'd',\n",
       " 'e',\n",
       " ' ',\n",
       " 'y',\n",
       " 'e']"
      ]
     },
     "execution_count": 21,
     "metadata": {},
     "output_type": "execute_result"
    }
   ],
   "source": [
    "def reverse(text):\n",
    "    output = []\n",
    "    for i in range(len(text)-1, -1, -1):\n",
    "        output.append(text[i])\n",
    "    return output\n",
    "reverse(\"ey edip adana'da pide ye!\")"
   ]
  },
  {
   "cell_type": "code",
   "execution_count": 22,
   "metadata": {},
   "outputs": [
    {
     "ename": "IndentationError",
     "evalue": "expected an indented block (<ipython-input-22-23e1633dba43>, line 4)",
     "output_type": "error",
     "traceback": [
      "\u001b[1;36m  File \u001b[1;32m\"<ipython-input-22-23e1633dba43>\"\u001b[1;36m, line \u001b[1;32m4\u001b[0m\n\u001b[1;33m    my_list[i], my_list[L-i - 1] = my_list[L-i-1], my_list[i]\u001b[0m\n\u001b[1;37m    ^\u001b[0m\n\u001b[1;31mIndentationError\u001b[0m\u001b[1;31m:\u001b[0m expected an indented block\n"
     ]
    }
   ],
   "source": [
    "def reverse(my_list):\n",
    "    L = len(my_list)\n",
    "    for i in range(L/2):\n",
    "    my_list[i], my_list[L-i - 1] = my_list[L-i-1], my_list[i]\n",
    "    return my_list\n",
    "reverse(\"ey edip\")"
   ]
  },
  {
   "cell_type": "code",
   "execution_count": 1,
   "metadata": {},
   "outputs": [],
   "source": [
    "def printBoard(board):\n",
    "    \"\"\"\n",
    "    A method to print the sudoku puzzle in a visually appealing format\n",
    "    \n",
    "    Arguments:\n",
    "    board - a list of nine sub lists with 9 numbers in each sub list\n",
    "    \n",
    "    Output:\n",
    "    Prints a nine x nine puzzle represented as a sudoku puzzle. Returns None.\n",
    "    \"\"\"\n",
    "    if not findEmpty(board):\n",
    "        print(\"Finished puzzle\")\n",
    "    else:\n",
    "        print(\"Unsolved puzzle\")\n",
    "    for i in range(len(board)):\n",
    "        if i%3 == 0:\n",
    "            print(\"-------------------\")\n",
    "            \n",
    "        for j in range(len(board[0])):\n",
    "            if j%3 == 0:\n",
    "                print(\"\\b|\", end =\"\")\n",
    "            \n",
    "            print(str(board[i][j])+\" \", end=\"\")\n",
    "        print(\"\\b|\")\n",
    "    print(\"-------------------\")\n",
    "    \n",
    "printBoard = [\n",
    "    [0, 0, 0, 0, 6, 4, 0, 0, 0],\n",
    "    [7, 0, 0, 0, 0, 0, 3, 9, 0],\n",
    "    [8, 0, 0, 0, 0, 0, 0, 0, 0],\n",
    "    [0, 0, 0, 5, 0, 2, 0, 6, 0],\n",
    "    [0, 8, 0, 4, 0, 0, 0, 0, 0],\n",
    "    [3, 5, 0, 6, 0, 0, 0, 7, 0],\n",
    "    [0, 0, 2, 0, 0, 0, 1, 0, 3],\n",
    "    [0, 0, 1, 0, 5, 9, 0, 0, 0],\n",
    "    [0, 0, 0, 0, 0, 0, 7, 0, 0]\n",
    "]"
   ]
  },
  {
   "cell_type": "code",
   "execution_count": 2,
   "metadata": {},
   "outputs": [
    {
     "ename": "SyntaxError",
     "evalue": "Missing parentheses in call to 'print'. Did you mean print(\"|-----------+-----------+-----------|\")? (<ipython-input-2-46a52ef01228>, line 9)",
     "output_type": "error",
     "traceback": [
      "\u001b[1;36m  File \u001b[1;32m\"<ipython-input-2-46a52ef01228>\"\u001b[1;36m, line \u001b[1;32m9\u001b[0m\n\u001b[1;33m    print \"|-----------+-----------+-----------|\"\u001b[0m\n\u001b[1;37m          ^\u001b[0m\n\u001b[1;31mSyntaxError\u001b[0m\u001b[1;31m:\u001b[0m Missing parentheses in call to 'print'. Did you mean print(\"|-----------+-----------+-----------|\")?\n"
     ]
    }
   ],
   "source": [
    "def pretty_print(sudoku_values):\n",
    "    \"\"\" Pretty print the sudoku (incomplete or complete)\n",
    "        \n",
    "    Numbers other than 1 - 9 will not be printed\n",
    "    \n",
    "    Argument: \n",
    "        sudoku_values (9x9 ndarray, required) -- given sudoku, to be solved\n",
    "    \"\"\"\n",
    "    print \"|-----------+-----------+-----------|\"\n",
    "    for row in range(9):\n",
    "        str_display = \"|\"\n",
    "        for first_column in range(0, 9, 3):\n",
    "            column_range = get_indices_from_same_block(first_column)\n",
    "            str_display += \" \".join(map(\n",
    "                _int_to_str, sudoku_values[row, column_range])) + \"|\"\n",
    "        print str_display\n",
    "        if row == 2 or row == 5 or row == 8:\n",
    "            print \"|-----------+-----------+-----------|\"\n",
    "        else:\n",
    "            print \"|           |           |           |\"\n",
    "pretty_print = [\n",
    "    [0, 0, 0, 0, 6, 4, 0, 0, 0],\n",
    "    [7, 0, 0, 0, 0, 0, 3, 9, 0],\n",
    "    [8, 0, 0, 0, 0, 0, 0, 0, 0],\n",
    "    [0, 0, 0, 5, 0, 2, 0, 6, 0],\n",
    "    [0, 8, 0, 4, 0, 0, 0, 0, 0],\n",
    "    [3, 5, 0, 6, 0, 0, 0, 7, 0],\n",
    "    [0, 0, 2, 0, 0, 0, 1, 0, 3],\n",
    "    [0, 0, 1, 0, 5, 9, 0, 0, 0],\n",
    "    [0, 0, 0, 0, 0, 0, 7, 0, 0]\n",
    "]"
   ]
  },
  {
   "cell_type": "code",
   "execution_count": 45,
   "metadata": {},
   "outputs": [
    {
     "name": "stdout",
     "output_type": "stream",
     "text": [
      "- - - - - - - - - - - - - - - \n"
     ]
    },
    {
     "ename": "IndexError",
     "evalue": "Replacement index 1 out of range for positional args tuple",
     "output_type": "error",
     "traceback": [
      "\u001b[1;31m---------------------------------------------------------------------------\u001b[0m",
      "\u001b[1;31mIndexError\u001b[0m                                Traceback (most recent call last)",
      "\u001b[1;32m<ipython-input-45-3ae76100ead0>\u001b[0m in \u001b[0;36m<module>\u001b[1;34m\u001b[0m\n\u001b[0;32m     20\u001b[0m     \u001b[1;32melif\u001b[0m \u001b[0mi\u001b[0m \u001b[1;33m==\u001b[0m \u001b[1;36m8\u001b[0m\u001b[1;33m:\u001b[0m\u001b[1;33m\u001b[0m\u001b[1;33m\u001b[0m\u001b[0m\n\u001b[0;32m     21\u001b[0m       \u001b[0mprint\u001b[0m\u001b[1;33m(\u001b[0m\u001b[1;34m\"- \"\u001b[0m\u001b[1;33m*\u001b[0m\u001b[1;36m15\u001b[0m\u001b[1;33m)\u001b[0m\u001b[1;33m\u001b[0m\u001b[1;33m\u001b[0m\u001b[0m\n\u001b[1;32m---> 22\u001b[1;33m \u001b[0mprint_sudoku\u001b[0m\u001b[1;33m(\u001b[0m\u001b[0msudoku\u001b[0m\u001b[1;33m)\u001b[0m\u001b[1;33m\u001b[0m\u001b[1;33m\u001b[0m\u001b[0m\n\u001b[0m",
      "\u001b[1;32m<ipython-input-45-3ae76100ead0>\u001b[0m in \u001b[0;36mprint_sudoku\u001b[1;34m(sudoku)\u001b[0m\n\u001b[0;32m     13\u001b[0m   \u001b[0mprint\u001b[0m\u001b[1;33m(\u001b[0m\u001b[1;34m\"- \"\u001b[0m\u001b[1;33m*\u001b[0m\u001b[1;36m15\u001b[0m\u001b[1;33m)\u001b[0m\u001b[1;33m\u001b[0m\u001b[1;33m\u001b[0m\u001b[0m\n\u001b[0;32m     14\u001b[0m   \u001b[1;32mfor\u001b[0m \u001b[0mi\u001b[0m\u001b[1;33m,\u001b[0m \u001b[0mrow\u001b[0m \u001b[1;32min\u001b[0m \u001b[0menumerate\u001b[0m\u001b[1;33m(\u001b[0m\u001b[0msudoku\u001b[0m\u001b[1;33m)\u001b[0m\u001b[1;33m:\u001b[0m\u001b[1;33m\u001b[0m\u001b[1;33m\u001b[0m\u001b[0m\n\u001b[1;32m---> 15\u001b[1;33m     \u001b[0mprint\u001b[0m\u001b[1;33m(\u001b[0m\u001b[1;33m(\u001b[0m\u001b[1;34m\"| {}  {}  {}  \"\u001b[0m \u001b[1;33m*\u001b[0m \u001b[1;36m3\u001b[0m\u001b[1;33m)\u001b[0m\u001b[1;33m[\u001b[0m\u001b[1;36m2\u001b[0m\u001b[1;33m:\u001b[0m\u001b[1;33m]\u001b[0m\u001b[1;33m.\u001b[0m\u001b[0mformat\u001b[0m\u001b[1;33m(\u001b[0m\u001b[1;33m[\u001b[0m\u001b[0mx\u001b[0m \u001b[1;32mfor\u001b[0m \u001b[0mx\u001b[0m \u001b[1;32min\u001b[0m \u001b[0mrow\u001b[0m\u001b[1;33m]\u001b[0m\u001b[1;33m)\u001b[0m\u001b[1;33m)\u001b[0m\u001b[1;33m\u001b[0m\u001b[1;33m\u001b[0m\u001b[0m\n\u001b[0m\u001b[0;32m     16\u001b[0m     \u001b[1;32mif\u001b[0m \u001b[0mi\u001b[0m \u001b[1;33m==\u001b[0m \u001b[1;36m2\u001b[0m\u001b[1;33m:\u001b[0m\u001b[1;33m\u001b[0m\u001b[1;33m\u001b[0m\u001b[0m\n\u001b[0;32m     17\u001b[0m       \u001b[0mprint\u001b[0m\u001b[1;33m(\u001b[0m\u001b[1;34m\"- \"\u001b[0m\u001b[1;33m*\u001b[0m\u001b[1;36m15\u001b[0m\u001b[1;33m)\u001b[0m\u001b[1;33m\u001b[0m\u001b[1;33m\u001b[0m\u001b[0m\n",
      "\u001b[1;31mIndexError\u001b[0m: Replacement index 1 out of range for positional args tuple"
     ]
    }
   ],
   "source": [
    "sudoku = [\n",
    "    [0, 0, 0, 0, 6, 4, 0, 0, 0],\n",
    "    [7, 0, 0, 0, 0, 0, 3, 9, 0],\n",
    "    [8, 0, 0, 0, 0, 0, 0, 0, 0],\n",
    "    [0, 0, 0, 5, 0, 2, 0, 6, 0],\n",
    "    [0, 8, 0, 4, 0, 0, 0, 0, 0],\n",
    "    [3, 5, 0, 6, 0, 0, 0, 7, 0],\n",
    "    [0, 0, 2, 0, 0, 0, 1, 0, 3],\n",
    "    [0, 0, 1, 0, 5, 9, 0, 0, 0],\n",
    "    [0, 0, 0, 0, 0, 0, 7, 0, 0]\n",
    "]\n",
    "def print_sudoku(sudoku):\n",
    "  print(\"- \"*15)\n",
    "  for i, row in enumerate(sudoku):\n",
    "    print((\"| {}  {}  {}  \" * 3)[2:].format(*[x for x in row]))\n",
    "    if i == 2:\n",
    "      print(\"- \"*15)\n",
    "    elif i == 5:\n",
    "      print(\"- \"*15)\n",
    "    elif i == 8:\n",
    "      print(\"- \"*15)\n",
    "print_sudoku(sudoku)"
   ]
  },
  {
   "cell_type": "code",
   "execution_count": 47,
   "metadata": {},
   "outputs": [],
   "source": [
    "def solve() :\n",
    "    global grid\n",
    "    for x in range(9):\n",
    "        for y in range(9):\n",
    "            if grid[x][y] == 0:\n",
    "                for n in range(1,10):\n",
    "                    if possible(x,y,n):\n",
    "                        grid[x][y]= n\n",
    "                        solve()\n",
    "                        grid[x][y] = 0\n",
    "                return\n",
    "    print(np.matrix(grid))\n",
    "    input(\"more?\")"
   ]
  },
  {
   "cell_type": "code",
   "execution_count": 48,
   "metadata": {},
   "outputs": [
    {
     "name": "stdout",
     "output_type": "stream",
     "text": [
      "- - - - - - - - - - - - - - - \n",
      "0  0  0  | 0  6  4  | 0  0  0  \n",
      "7  0  0  | 0  0  0  | 3  9  0  \n",
      "8  0  0  | 0  0  0  | 0  0  0  \n",
      "- - - - - - - - - - - - - - - \n",
      "0  0  0  | 5  0  2  | 0  6  0  \n",
      "0  8  0  | 4  0  0  | 0  0  0  \n",
      "3  5  0  | 6  0  0  | 0  7  0  \n",
      "- - - - - - - - - - - - - - - \n",
      "0  0  2  | 0  0  0  | 1  0  3  \n",
      "0  0  1  | 0  5  9  | 0  0  0  \n",
      "0  0  0  | 0  0  0  | 7  0  0  \n",
      "- - - - - - - - - - - - - - - \n"
     ]
    }
   ],
   "source": [
    "count = 0\n",
    "print(\"- - - - - - - - - - - - - - - \")\n",
    "for i in sudoku:\n",
    "    for j in range(9):\n",
    "        print(i[j], \" \", end=\"\")\n",
    "        if (j+1) == 9 : \n",
    "            print()\n",
    "            count+=1\n",
    "            if count%3==0 and count!=0 :\n",
    "                print(\"- - - - - - - - - - - - - - - \")\n",
    "        if (j+1) % 3 == 0 and j != 0 and j!=8: \n",
    "             print(\"| \", end=\"\")\n"
   ]
  },
  {
   "cell_type": "code",
   "execution_count": null,
   "metadata": {},
   "outputs": [],
   "source": []
  }
 ],
 "metadata": {
  "kernelspec": {
   "display_name": "Python 3",
   "language": "python",
   "name": "python3"
  },
  "language_info": {
   "codemirror_mode": {
    "name": "ipython",
    "version": 3
   },
   "file_extension": ".py",
   "mimetype": "text/x-python",
   "name": "python",
   "nbconvert_exporter": "python",
   "pygments_lexer": "ipython3",
   "version": "3.8.5"
  }
 },
 "nbformat": 4,
 "nbformat_minor": 4
}

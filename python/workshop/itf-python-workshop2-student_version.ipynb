
### Problem 1

Try to find the intersection (common) elements of two given lists 
without using a ``set``?


### Problem 2

Write a function that replaces the letter w2 with w1 in the given 
word? (try to write using ``lambda``).


### Problem 3

Write a function that takes input from the user and returns 
"``number`` is not valid number" if the value entered is not a 
numeric value. Repeat the process until the user enter a valid input.


### Problem 4

Write a function that checks whether the sentence you get from the 
user is a **palindrome**. (Do not consider punctuation and special
characters. Only consider "alphanumeric" characters.)
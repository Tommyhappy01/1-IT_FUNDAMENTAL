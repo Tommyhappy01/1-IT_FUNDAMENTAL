{
 "cells": [
  {
   "cell_type": "code",
   "execution_count": 1,
   "metadata": {},
   "outputs": [
    {
     "name": "stdout",
     "output_type": "stream",
     "text": [
      "column 1,column 2,column 3\n",
      "first row 1,first row 2,first row 3\n",
      "second row 1,second row 2,second row 3\n",
      "third row 1,third row 2,third row 3\n",
      ".\n",
      ".\n",
      ".\n"
     ]
    }
   ],
   "source": [
    "with open(\"csv.csv\", 'r', encoding=\"utf-8\") as file:\n",
    "    print(file.read())"
   ]
  },
  {
   "cell_type": "code",
   "execution_count": 2,
   "metadata": {},
   "outputs": [
    {
     "name": "stdout",
     "output_type": "stream",
     "text": [
      "column 1,column 2,column 3\n",
      "first row 1,first row 2,first row 3\n",
      "second row 1,second row 2,second row 3\n",
      "third row 1,third row 2,third row 3\n",
      ".\n",
      ".\n",
      ".\n"
     ]
    }
   ],
   "source": [
    "with open(\"csv.csv\", 'r', encoding=\"utf-8\") as file:\n",
    "    print(file.read())"
   ]
  },
  {
   "cell_type": "code",
   "execution_count": 5,
   "metadata": {},
   "outputs": [
    {
     "name": "stdout",
     "output_type": "stream",
     "text": [
      "['Banana']\n",
      "['Orange']\n",
      "['Apple']\n",
      "['Strawberry']\n",
      "['Cherry']\n",
      "['melonmelonmelonmelonmelonorchid']\n",
      "['orchid']\n"
     ]
    }
   ],
   "source": [
    "import csv  # loads csv module\n",
    "\n",
    "with open(\"fruits.csv\", 'r', newline = '', encoding = 'utf-8') as file:\n",
    "    csv_rows = csv.reader(file)  # reader() function takes each\n",
    "                                 # row (lines) into a list\n",
    "    for row in csv_rows: \n",
    "        print(row)    "
   ]
  },
  {
   "cell_type": "code",
   "execution_count": 6,
   "metadata": {},
   "outputs": [
    {
     "name": "stdout",
     "output_type": "stream",
     "text": [
      "['Banana']\n",
      "['Orange']\n",
      "['Apple']\n",
      "['Strawberry']\n",
      "['Cherry']\n",
      "['melonmelonmelonmelonmelonorchid']\n",
      "['orchid']\n"
     ]
    }
   ],
   "source": [
    "import csv\n",
    "\n",
    "with open(\"fruits.csv\", 'r', newline = '', encoding = 'utf-8') as file:\n",
    "    csv_rows = csv.reader(file, delimiter= \",\")  # gives the same output as the previous one\n",
    "                                 \n",
    "    for row in csv_rows: \n",
    "        print(row) "
   ]
  },
  {
   "cell_type": "code",
   "execution_count": 7,
   "metadata": {},
   "outputs": [
    {
     "name": "stdout",
     "output_type": "stream",
     "text": [
      "['Banana']\n",
      "['Orange']\n",
      "['Apple']\n",
      "['Strawberry']\n",
      "['Cherry']\n",
      "['melonmelonmelonmelonmelonorchid']\n",
      "['orchid']\n"
     ]
    }
   ],
   "source": [
    "import csv \n",
    "\n",
    "with open(\"fruits.csv\", 'r', newline = '', encoding = 'utf-8') as file:\n",
    "    csv_rows = csv.reader(file, delimiter = ':')  # we specified a char \":\" that is not used\n",
    "                                                  # in the csv file as a value of delimiter\n",
    "    for row in csv_rows: \n",
    "        print(row) "
   ]
  },
  {
   "cell_type": "markdown",
   "metadata": {},
   "source": [
    "#### file.like araştır     file.read       file.readlines           file.readline"
   ]
  },
  {
   "cell_type": "code",
   "execution_count": null,
   "metadata": {},
   "outputs": [],
   "source": []
  },
  {
   "cell_type": "code",
   "execution_count": 8,
   "metadata": {},
   "outputs": [],
   "source": [
    "fruits = ['Banana', 'Orange', 'Apple', 'Strawberry', 'Cherry']"
   ]
  },
  {
   "cell_type": "code",
   "execution_count": 10,
   "metadata": {},
   "outputs": [
    {
     "name": "stdout",
     "output_type": "stream",
     "text": [
      "Banana\n",
      "Orange\n",
      "Apple\n",
      "Strawberry\n",
      "Cherry\n",
      "\n",
      "[]\n"
     ]
    }
   ],
   "source": [
    "with open(\"fruits_24.txt\",\"w\",encoding=\"utf-8\") as ff:\n",
    "    for meyve in fruits:\n",
    "        ff.write(meyve+\"\\n\")\n",
    "        \n",
    "with open(\"fruits_24.txt\",\"r\",encoding=\"utf-8\") as ff:\n",
    "    print(ff.read())  # 8 bit 1karakter 1 bayt \n",
    "    print(ff.readlines()) #liste yapar elaman olarak \n",
    "    "
   ]
  },
  {
   "cell_type": "code",
   "execution_count": 11,
   "metadata": {},
   "outputs": [
    {
     "ename": "ValueError",
     "evalue": "I/O operation on closed file.",
     "output_type": "error",
     "traceback": [
      "\u001b[1;31m---------------------------------------------------------------------------\u001b[0m",
      "\u001b[1;31mValueError\u001b[0m                                Traceback (most recent call last)",
      "\u001b[1;32m<ipython-input-11-a8f09bf73a95>\u001b[0m in \u001b[0;36m<module>\u001b[1;34m\u001b[0m\n\u001b[0;32m      3\u001b[0m         \u001b[0mff\u001b[0m\u001b[1;33m.\u001b[0m\u001b[0mwrite\u001b[0m\u001b[1;33m(\u001b[0m\u001b[0mmeyve\u001b[0m\u001b[1;33m+\u001b[0m\u001b[1;34m\"\\n\"\u001b[0m\u001b[1;33m)\u001b[0m\u001b[1;33m\u001b[0m\u001b[1;33m\u001b[0m\u001b[0m\n\u001b[0;32m      4\u001b[0m \u001b[1;33m\u001b[0m\u001b[0m\n\u001b[1;32m----> 5\u001b[1;33m \u001b[0mprint\u001b[0m\u001b[1;33m(\u001b[0m\u001b[0mff\u001b[0m\u001b[1;33m.\u001b[0m\u001b[0mreadlines\u001b[0m\u001b[1;33m(\u001b[0m\u001b[1;33m)\u001b[0m\u001b[1;33m)\u001b[0m \u001b[1;31m#liste yapar elaman olarak\u001b[0m\u001b[1;33m\u001b[0m\u001b[1;33m\u001b[0m\u001b[0m\n\u001b[0m",
      "\u001b[1;31mValueError\u001b[0m: I/O operation on closed file."
     ]
    }
   ],
   "source": [
    "with open(\"fruits_24.txt\",\"w\",encoding=\"utf-8\") as ff:\n",
    "    for meyve in fruits:\n",
    "        ff.write(meyve+\"\\n\")\n",
    "        \n",
    "print(ff.readlines()) #liste yapar elaman olarak"
   ]
  },
  {
   "cell_type": "code",
   "execution_count": null,
   "metadata": {},
   "outputs": [],
   "source": [
    "flowers=['Jasmine', 'Rose', 'Lily', 'Daisy', 'Tulip']"
   ]
  },
  {
   "cell_type": "code",
   "execution_count": 12,
   "metadata": {},
   "outputs": [
    {
     "name": "stdout",
     "output_type": "stream",
     "text": [
      "Banana\n",
      "\n",
      "Orange\n",
      "\n",
      "Apple\n",
      "\n",
      "Strawberry\n",
      "\n",
      "Cherry\n",
      "\n",
      "\n"
     ]
    }
   ],
   "source": [
    "with open(\"flowers.txt\",\"w\",encoding=\"utf-8\") as ff:\n",
    "    for meyve in fruits:\n",
    "        ff.write(meyve+\"\\n\\n\") #çift satır\n",
    "                \n",
    "with open(\"flowers.txt\",\"r\",encoding=\"utf-8\") as ff:\n",
    "    print(ff.read())  # 8 bit 1karakter 1 bayt "
   ]
  },
  {
   "cell_type": "code",
   "execution_count": 13,
   "metadata": {},
   "outputs": [],
   "source": [
    "flowers=['Jasmine\\n', 'Rose\\n', 'Lily\\n', 'Daisy\\n', 'Tulip\\n']"
   ]
  },
  {
   "cell_type": "code",
   "execution_count": 14,
   "metadata": {},
   "outputs": [
    {
     "name": "stdout",
     "output_type": "stream",
     "text": [
      "Jasmine\n",
      "Rose\n",
      "Lily\n",
      "Daisy\n",
      "Tulip\n",
      "\n"
     ]
    }
   ],
   "source": [
    "with open(\"flowers.txt\",\"w\",encoding=\"utf-8\") as ff:\n",
    " \n",
    "        ff.writelines(flowers)                         #çift satı\n",
    "with open(\"flowers.txt\",\"r\",encoding=\"utf-8\") as ff:\n",
    "    print(ff.read())                                   # 8 bit 1karakter 1 bayt "
   ]
  },
  {
   "cell_type": "code",
   "execution_count": null,
   "metadata": {},
   "outputs": [],
   "source": [
    "fruits = ['Banana', 'Orange', 'Apple', 'Strawberry', 'Cherry']"
   ]
  },
  {
   "cell_type": "code",
   "execution_count": 15,
   "metadata": {},
   "outputs": [
    {
     "name": "stdout",
     "output_type": "stream",
     "text": [
      "Banana\n",
      "Orange\n",
      "Apple\n",
      "Strawberry\n",
      "Cherry\n",
      "melon\n"
     ]
    }
   ],
   "source": [
    "with open(\"fruits_24.txt\",\"a\",encoding=\"utf-8\") as ff:\n",
    "    ff.write(\"melon\")\n",
    "     \n",
    "with open(\"fruits_24.txt\",\"r\",encoding=\"utf-8\") as ff:\n",
    "    print(ff.read())  # 8 bit 1karakter 1 bayt \n",
    "      "
   ]
  },
  {
   "cell_type": "code",
   "execution_count": 16,
   "metadata": {},
   "outputs": [
    {
     "name": "stdout",
     "output_type": "stream",
     "text": [
      "Banana\n",
      "Orange\n",
      "Apple\n",
      "Strawberry\n",
      "Cherry\n",
      "melonorchid\n",
      "\n"
     ]
    }
   ],
   "source": [
    "with open(\"fruits_24.txt\",\"a\",encoding=\"utf-8\") as ff:\n",
    "    ff.write(\"orchid\\n\")\n",
    "     \n",
    "with open(\"fruits_24.txt\",\"r\",encoding=\"utf-8\") as ff:\n",
    "    print(ff.read())  # 8 bit 1karakter 1 bayt \n",
    "      "
   ]
  },
  {
   "cell_type": "code",
   "execution_count": 22,
   "metadata": {},
   "outputs": [
    {
     "name": "stdout",
     "output_type": "stream",
     "text": [
      "Korkma, sönmez bu şafaklarda yüzen al sancak;\n",
      "Sönmeden yurdumun üstünde tüten en son ocak.\n",
      "O benim milletimin yıldızıdır, parlayacak;\n",
      "O benimdir, o benim milletimindir ancak.\n",
      "Çatma, kurban olayım, çehreni ey nazlı hilal!\n",
      "Kahraman ırkıma bir gül! Ne bu şiddet, bu celal?\n",
      "Sana olmaz dökülen kanlarımız sonra helal...\n",
      "Hakkıdır, hakk'a tapan, milletimin istiklal!\n",
      "Ben ezelden beridir hür yaşadım, hür yaşarım.\n",
      "Hangi çılgın bana zincir vuracakmış? Şaşarım!\n",
      "Kükremiş sel gibiyim, bendimi çiğner, aşarım.\n",
      "Yırtarım dağları, enginlere sığmam, taşarım.\n",
      "Garbın afakını sarmışsa çelik zırhlı duvar,\n",
      "Benim iman dolu göğsüm gibi serhaddim var.\n",
      "Ulusun, korkma! Nasıl böyle bir imanı boğar,\n",
      "'Medeniyet!' dediğin tek dişi kalmış canavar?\n",
      "Arkadaş! Yurduma alçakları uğratma, sakın.\n",
      "Siper et gövdeni, dursun bu hayasızca akın.\n",
      "Doğacaktır sana va'dettigi günler hakk'ın...\n",
      "Kim bilir, belki yarın, belki yarından da yakın.\n",
      "Bastığın yerleri 'toprak!' diyerek geçme, tanı:\n",
      "Düşün altında binlerce kefensiz yatanı.\n",
      "Sen şehit oğlusun, incitme, yazıktır, atanı:\n",
      "Verme, dünyaları alsan da, bu cennet vatanı.\n",
      "Kim bu cennet vatanın uğruna olmaz ki feda?\n",
      "Şuheda fışkıracak toprağı sıksan, şuheda!\n",
      "Canı, cananı, bütün varımı alsın da hüda,\n",
      "Etmesin tek vatanımdan beni dünyada cüda.\n",
      "Ruhumun senden, ilahi, şudur ancak emeli:\n",
      "Değmesin mabedimin göğsüne namahrem eli.\n",
      "Bu ezanlar-ki şahadetleri dinin temeli,\n",
      "Ebedi yurdumun üstünde benim inlemeli.\n"
     ]
    }
   ],
   "source": [
    "with open(\"istiklal.txt\",\"r\",encoding=\"utf=8\")as ff:\n",
    "     print(ff.read())"
   ]
  },
  {
   "cell_type": "code",
   "execution_count": 23,
   "metadata": {},
   "outputs": [],
   "source": [
    "with open(\"istiklal.txt\",\"r\",encoding=\"utf=8\") as ff :\n",
    "    lines = ff.readlines()\n"
   ]
  },
  {
   "cell_type": "code",
   "execution_count": 24,
   "metadata": {},
   "outputs": [
    {
     "data": {
      "text/plain": [
       "['Korkma, sönmez bu şafaklarda yüzen al sancak;\\n',\n",
       " 'Sönmeden yurdumun üstünde tüten en son ocak.\\n',\n",
       " 'O benim milletimin yıldızıdır, parlayacak;\\n',\n",
       " 'O benimdir, o benim milletimindir ancak.\\n',\n",
       " 'Çatma, kurban olayım, çehreni ey nazlı hilal!\\n',\n",
       " 'Kahraman ırkıma bir gül! Ne bu şiddet, bu celal?\\n',\n",
       " 'Sana olmaz dökülen kanlarımız sonra helal...\\n',\n",
       " \"Hakkıdır, hakk'a tapan, milletimin istiklal!\\n\",\n",
       " 'Ben ezelden beridir hür yaşadım, hür yaşarım.\\n',\n",
       " 'Hangi çılgın bana zincir vuracakmış? Şaşarım!\\n',\n",
       " 'Kükremiş sel gibiyim, bendimi çiğner, aşarım.\\n',\n",
       " 'Yırtarım dağları, enginlere sığmam, taşarım.\\n',\n",
       " 'Garbın afakını sarmışsa çelik zırhlı duvar,\\n',\n",
       " 'Benim iman dolu göğsüm gibi serhaddim var.\\n',\n",
       " 'Ulusun, korkma! Nasıl böyle bir imanı boğar,\\n',\n",
       " \"'Medeniyet!' dediğin tek dişi kalmış canavar?\\n\",\n",
       " 'Arkadaş! Yurduma alçakları uğratma, sakın.\\n',\n",
       " 'Siper et gövdeni, dursun bu hayasızca akın.\\n',\n",
       " \"Doğacaktır sana va'dettigi günler hakk'ın...\\n\",\n",
       " 'Kim bilir, belki yarın, belki yarından da yakın.\\n',\n",
       " \"Bastığın yerleri 'toprak!' diyerek geçme, tanı:\\n\",\n",
       " 'Düşün altında binlerce kefensiz yatanı.\\n',\n",
       " 'Sen şehit oğlusun, incitme, yazıktır, atanı:\\n',\n",
       " 'Verme, dünyaları alsan da, bu cennet vatanı.\\n',\n",
       " 'Kim bu cennet vatanın uğruna olmaz ki feda?\\n',\n",
       " 'Şuheda fışkıracak toprağı sıksan, şuheda!\\n',\n",
       " 'Canı, cananı, bütün varımı alsın da hüda,\\n',\n",
       " 'Etmesin tek vatanımdan beni dünyada cüda.\\n',\n",
       " 'Ruhumun senden, ilahi, şudur ancak emeli:\\n',\n",
       " 'Değmesin mabedimin göğsüne namahrem eli.\\n',\n",
       " 'Bu ezanlar-ki şahadetleri dinin temeli,\\n',\n",
       " 'Ebedi yurdumun üstünde benim inlemeli.']"
      ]
     },
     "execution_count": 24,
     "metadata": {},
     "output_type": "execute_result"
    }
   ],
   "source": [
    "lines"
   ]
  },
  {
   "cell_type": "code",
   "execution_count": 25,
   "metadata": {},
   "outputs": [
    {
     "data": {
      "text/plain": [
       "['Korkma, sönmez bu şafaklarda yüzen al sancak;\\n',\n",
       " 'Sönmeden yurdumun üstünde tüten en son ocak.\\n',\n",
       " 'O benim milletimin yıldızıdır, parlayacak;\\n',\n",
       " 'O benimdir, o benim milletimindir ancak.\\n',\n",
       " '\\n',\n",
       " 'Çatma, kurban olayım, çehreni ey nazlı hilal!\\n',\n",
       " 'Kahraman ırkıma bir gül! Ne bu şiddet, bu celal?\\n',\n",
       " 'Sana olmaz dökülen kanlarımız sonra helal...\\n',\n",
       " \"Hakkıdır, hakk'a tapan, milletimin istiklal!\\n\",\n",
       " '\\n',\n",
       " 'Ben ezelden beridir hür yaşadım, hür yaşarım.\\n',\n",
       " 'Hangi çılgın bana zincir vuracakmış? Şaşarım!\\n',\n",
       " 'Kükremiş sel gibiyim, bendimi çiğner, aşarım.\\n',\n",
       " 'Yırtarım dağları, enginlere sığmam, taşarım.\\n',\n",
       " '\\n',\n",
       " 'Garbın afakını sarmışsa çelik zırhlı duvar,\\n',\n",
       " 'Benim iman dolu göğsüm gibi serhaddim var.\\n',\n",
       " 'Ulusun, korkma! Nasıl böyle bir imanı boğar,\\n',\n",
       " \"'Medeniyet!' dediğin tek dişi kalmış canavar?\\n\",\n",
       " '\\n',\n",
       " 'Arkadaş! Yurduma alçakları uğratma, sakın.\\n',\n",
       " 'Siper et gövdeni, dursun bu hayasızca akın.\\n',\n",
       " \"Doğacaktır sana va'dettigi günler hakk'ın...\\n\",\n",
       " 'Kim bilir, belki yarın, belki yarından da yakın.\\n',\n",
       " '\\n',\n",
       " \"Bastığın yerleri 'toprak!' diyerek geçme, tanı:\\n\",\n",
       " 'Düşün altında binlerce kefensiz yatanı.\\n',\n",
       " 'Sen şehit oğlusun, incitme, yazıktır, atanı:\\n',\n",
       " 'Verme, dünyaları alsan da, bu cennet vatanı.\\n',\n",
       " '\\n',\n",
       " 'Kim bu cennet vatanın uğruna olmaz ki feda?\\n',\n",
       " 'Şuheda fışkıracak toprağı sıksan, şuheda!\\n',\n",
       " 'Canı, cananı, bütün varımı alsın da hüda,\\n',\n",
       " 'Etmesin tek vatanımdan beni dünyada cüda.\\n',\n",
       " '\\n',\n",
       " 'Ruhumun senden, ilahi, şudur ancak emeli:\\n',\n",
       " 'Değmesin mabedimin göğsüne namahrem eli.\\n',\n",
       " 'Bu ezanlar-ki şahadetleri dinin temeli,\\n',\n",
       " 'Ebedi yurdumun üstünde benim inlemeli.\\n']"
      ]
     },
     "execution_count": 25,
     "metadata": {},
     "output_type": "execute_result"
    }
   ],
   "source": [
    "count=0\n",
    "with open(\"istiklal.txt\",\"w\",encoding=\"utf=8\") as f :\n",
    "    \n",
    "    for i in lines:\n",
    "        count+=1\n",
    "        if count % 4 == 0: \n",
    "            f.write(i+\"\\n\")\n",
    "        else:\n",
    "            f.write(i)\n",
    "            \n",
    "with open(\"istiklal.txt\",\"r\",encoding=\"utf=8\") as f :\n",
    "    new_lines=f.readlines()\n",
    "new_lines"
   ]
  },
  {
   "cell_type": "code",
   "execution_count": 26,
   "metadata": {},
   "outputs": [
    {
     "name": "stdout",
     "output_type": "stream",
     "text": [
      "Korkma, sönmez bu şafaklarda yüzen al sancak;\n",
      "Sönmeden yurdumun üstünde tüten en son ocak.\n",
      "O benim milletimin yıldızıdır, parlayacak;\n",
      "O benimdir, o benim milletimindir ancak.\n",
      "\n",
      "Çatma, kurban olayım, çehreni ey nazlı hilal!\n",
      "Kahraman ırkıma bir gül! Ne bu şiddet, bu celal?\n",
      "Sana olmaz dökülen kanlarımız sonra helal...\n",
      "Hakkıdır, hakk'a tapan, milletimin istiklal!\n",
      "\n",
      "Ben ezelden beridir hür yaşadım, hür yaşarım.\n",
      "Hangi çılgın bana zincir vuracakmış? Şaşarım!\n",
      "Kükremiş sel gibiyim, bendimi çiğner, aşarım.\n",
      "Yırtarım dağları, enginlere sığmam, taşarım.\n",
      "\n",
      "Garbın afakını sarmışsa çelik zırhlı duvar,\n",
      "Benim iman dolu göğsüm gibi serhaddim var.\n",
      "Ulusun, korkma! Nasıl böyle bir imanı boğar,\n",
      "'Medeniyet!' dediğin tek dişi kalmış canavar?\n",
      "\n",
      "Arkadaş! Yurduma alçakları uğratma, sakın.\n",
      "Siper et gövdeni, dursun bu hayasızca akın.\n",
      "Doğacaktır sana va'dettigi günler hakk'ın...\n",
      "Kim bilir, belki yarın, belki yarından da yakın.\n",
      "\n",
      "Bastığın yerleri 'toprak!' diyerek geçme, tanı:\n",
      "Düşün altında binlerce kefensiz yatanı.\n",
      "Sen şehit oğlusun, incitme, yazıktır, atanı:\n",
      "Verme, dünyaları alsan da, bu cennet vatanı.\n",
      "\n",
      "Kim bu cennet vatanın uğruna olmaz ki feda?\n",
      "Şuheda fışkıracak toprağı sıksan, şuheda!\n",
      "Canı, cananı, bütün varımı alsın da hüda,\n",
      "Etmesin tek vatanımdan beni dünyada cüda.\n",
      "\n",
      "Ruhumun senden, ilahi, şudur ancak emeli:\n",
      "Değmesin mabedimin göğsüne namahrem eli.\n",
      "Bu ezanlar-ki şahadetleri dinin temeli,\n",
      "Ebedi yurdumun üstünde benim inlemeli.\n",
      "\n",
      "Korkma, sönmez bu şafaklarda yüzen al sancak;\n",
      "Sönmeden yurdumun üstünde tüten en son ocak.\n",
      "O benim milletimin yıldızıdır, parlayacak;\n",
      "O benimdir, o benim milletimindir ancak.\n",
      "Çatma, kurban olayım, çehreni ey nazlı hilal!\n",
      "Kahraman ırkıma bir gül! Ne bu şiddet, bu celal?\n",
      "Sana olmaz dökülen kanlarımız sonra helal...\n",
      "Hakkıdır, hakk'a tapan, milletimin istiklal!\n",
      "Ben ezelden beridir hür yaşadım, hür yaşarım.\n",
      "Hangi çılgın bana zincir vuracakmış? Şaşarım!\n",
      "Kükremiş sel gibiyim, bendimi çiğner, aşarım.\n",
      "Yırtarım dağları, enginlere sığmam, taşarım.\n",
      "Garbın afakını sarmışsa çelik zırhlı duvar,\n",
      "Benim iman dolu göğsüm gibi serhaddim var.\n",
      "Ulusun, korkma! Nasıl böyle bir imanı boğar,\n",
      "'Medeniyet!' dediğin tek dişi kalmış canavar?\n",
      "Arkadaş! Yurduma alçakları uğratma, sakın.\n",
      "Siper et gövdeni, dursun bu hayasızca akın.\n",
      "Doğacaktır sana va'dettigi günler hakk'ın...\n",
      "Kim bilir, belki yarın, belki yarından da yakın.\n",
      "Bastığın yerleri 'toprak!' diyerek geçme, tanı:\n",
      "Düşün altında binlerce kefensiz yatanı.\n",
      "Sen şehit oğlusun, incitme, yazıktır, atanı:\n",
      "Verme, dünyaları alsan da, bu cennet vatanı.\n",
      "Kim bu cennet vatanın uğruna olmaz ki feda?\n",
      "Şuheda fışkıracak toprağı sıksan, şuheda!\n",
      "Canı, cananı, bütün varımı alsın da hüda,\n",
      "Etmesin tek vatanımdan beni dünyada cüda.\n",
      "Ruhumun senden, ilahi, şudur ancak emeli:\n",
      "Değmesin mabedimin göğsüne namahrem eli.\n",
      "Bu ezanlar-ki şahadetleri dinin temeli,\n",
      "Ebedi yurdumun üstünde benim inlemeli.\n",
      "\n"
     ]
    }
   ],
   "source": [
    "count=0\n",
    "with open(\"istiklal.txt\",\"a\",encoding=\"utf=8\") as f :\n",
    "    f.write(\"\\n\")\n",
    "    for i in new_lines:\n",
    "        if i==\"\\n\":\n",
    "            i.replace(\"\\n\",\"\") #pass\n",
    "        else:\n",
    "            f.write(i)  \n",
    "with open(\"istiklal.txt\",\"r\",encoding=\"utf=8\") as f :\n",
    "    print(f.read())"
   ]
  },
  {
   "cell_type": "markdown",
   "metadata": {},
   "source": [
    "### let's get our hands dirty!..."
   ]
  },
  {
   "cell_type": "code",
   "execution_count": 29,
   "metadata": {},
   "outputs": [
    {
     "data": {
      "text/plain": [
       "dict_keys([1, 2])"
      ]
     },
     "execution_count": 29,
     "metadata": {},
     "output_type": "execute_result"
    }
   ],
   "source": [
    "word= {1:\"1\", 2:\"2\"}\n",
    "keys=word.keys()\n",
    "keys"
   ]
  },
  {
   "cell_type": "code",
   "execution_count": 30,
   "metadata": {},
   "outputs": [],
   "source": [
    "word1= {}"
   ]
  },
  {
   "cell_type": "code",
   "execution_count": 31,
   "metadata": {},
   "outputs": [
    {
     "data": {
      "text/plain": [
       "{3: 1}"
      ]
     },
     "execution_count": 31,
     "metadata": {},
     "output_type": "execute_result"
    }
   ],
   "source": [
    "word1[3]= 1\n",
    "word1"
   ]
  },
  {
   "cell_type": "code",
   "execution_count": 32,
   "metadata": {},
   "outputs": [],
   "source": [
    "word1[1]=1"
   ]
  },
  {
   "cell_type": "code",
   "execution_count": 33,
   "metadata": {},
   "outputs": [
    {
     "data": {
      "text/plain": [
       "{3: 1, 1: 1}"
      ]
     },
     "execution_count": 33,
     "metadata": {},
     "output_type": "execute_result"
    }
   ],
   "source": [
    "word1"
   ]
  },
  {
   "cell_type": "code",
   "execution_count": 35,
   "metadata": {},
   "outputs": [
    {
     "data": {
      "text/plain": [
       "{3: 3, 1: 1}"
      ]
     },
     "execution_count": 35,
     "metadata": {},
     "output_type": "execute_result"
    }
   ],
   "source": [
    "word1[3]+= 1\n",
    "word1   # bir artıracak her defasında"
   ]
  },
  {
   "cell_type": "code",
   "execution_count": 36,
   "metadata": {},
   "outputs": [
    {
     "name": "stdout",
     "output_type": "stream",
     "text": [
      "{'b': 6, 'i': 2, 'r': 5, ' ': 3, 'e': 6, ',': 1, \"'\": 1, '.': 1}\n"
     ]
    }
   ],
   "source": [
    "string =  \"bir berber, bie'e berber.\"\n",
    "\n",
    "word_dict={}\n",
    "for i in string:\n",
    "    keys=word_dict.keys()\n",
    "    if i in keys:\n",
    "        word_dict[i]+=1\n",
    "    else:\n",
    "        word_dict[i]=1\n",
    "print(word_dict)"
   ]
  },
  {
   "cell_type": "code",
   "execution_count": 37,
   "metadata": {},
   "outputs": [
    {
     "data": {
      "text/plain": [
       "{'int': 0, 'str': 0, 'dict': 0, 'list': 0, 'set': 0, 'bool': 0, 'tuple': 0}"
      ]
     },
     "execution_count": 37,
     "metadata": {},
     "output_type": "execute_result"
    }
   ],
   "source": [
    "veri=[\"a\",\"b\",True,(False,1),{\"1:2\"},[1,2],{\"2\":\"two\"},{2,\"3\"},\"c\",23,0]\n",
    "\n",
    "\n",
    "tipler=[\"int\",\"str\",\"dict\",\"list\",\"set\",\"bool\",\"tuple\"]\n",
    "\n",
    "{}.fromkeys(tipler,0)   #keyler iterable dictte\n"
   ]
  },
  {
   "cell_type": "code",
   "execution_count": 39,
   "metadata": {},
   "outputs": [],
   "source": [
    "toplam ={}.fromkeys(tipler,0) "
   ]
  },
  {
   "cell_type": "code",
   "execution_count": 40,
   "metadata": {},
   "outputs": [],
   "source": [
    "for i in range(len(veri)) :\n",
    "    if type(veri[i]) == int: toplam[\"int\"] += 1\n",
    "    elif type(veri[i]) == str: toplam[\"str\"] += 1\n",
    "    elif type(veri[i]) == bool: toplam[\"bool\"] += 1\n",
    "    elif type(veri[i]) == list: toplam[\"list\"] += 1\n",
    "    elif type(veri[i]) == tuple: toplam[\"tuple\"] += 1\n",
    "    elif type(veri[i]) == dict: toplam[\"dict\"] += 1\n",
    "    elif type(veri[i]) == set: toplam[\"set\"] += 1"
   ]
  },
  {
   "cell_type": "code",
   "execution_count": 12,
   "metadata": {},
   "outputs": [
    {
     "data": {
      "text/plain": [
       "{'int': 2, 'str': 3, 'dict': 1, 'list': 1, 'set': 2, 'bool': 1, 'tuple': 1}"
      ]
     },
     "execution_count": 12,
     "metadata": {},
     "output_type": "execute_result"
    }
   ],
   "source": [
    "toplam"
   ]
  },
  {
   "cell_type": "code",
   "execution_count": 2,
   "metadata": {},
   "outputs": [],
   "source": [
    "import os"
   ]
  },
  {
   "cell_type": "code",
   "execution_count": 3,
   "metadata": {},
   "outputs": [
    {
     "data": {
      "text/plain": [
       "['#for ad while.py',\n",
       " '#The most Frequent.py',\n",
       " '#The most Frequent.txt',\n",
       " '.format 10.py',\n",
       " '.format işlemi.py',\n",
       " '.format.py',\n",
       " '.ipynb_checkpoints',\n",
       " '1.5.21 function.py',\n",
       " '1.html',\n",
       " '12_PythonSession-10-Apr-2021.ipynb',\n",
       " '13_In-Class_Python_Basics_Tuples - ITF-008-Python-Tuples - Tommy happy.docx',\n",
       " '14_PythonSession-17-Apr-2021.ipynb',\n",
       " '17_PythonSession-28-Apr-2021.ipynb',\n",
       " '19.05.inclass_package_error.ipynb',\n",
       " '2 string plus.py',\n",
       " '22.5 file  read write in class.ipynb',\n",
       " '22.5 try except in class.ipynb',\n",
       " '24.5 csv file.ipynb',\n",
       " 'a = 1.py',\n",
       " 'accessing list.py',\n",
       " 'aiho ders 1.ipynb',\n",
       " 'anagram v11.py',\n",
       " 'anagramm.py',\n",
       " 'anagramm.txt',\n",
       " 'append.py',\n",
       " 'ass-2 CELC-FAH, KM-MİL.py',\n",
       " 'ass2_4.soru.txt',\n",
       " 'assigment 8.py',\n",
       " 'assigment keybord.py',\n",
       " 'assigment name.py',\n",
       " 'assigment_8.ipynb',\n",
       " 'assigmnet 2.py',\n",
       " 'assigmnet-1.py',\n",
       " 'benim_ilk _dosya.txt',\n",
       " 'Built in function_1.py',\n",
       " 'C8381-Tommy Assingment (1).py',\n",
       " 'C8381-Tommy Assingment.py',\n",
       " 'C8381-Tommy_Assignment.py',\n",
       " 'C8381-Tommy_Assignment.py version 2.py',\n",
       " 'capitalize metod.py',\n",
       " 'capitalize.py',\n",
       " 'center metodu.py',\n",
       " 'center.ipynb',\n",
       " 'Challenge 1 Find the Largest Number.py',\n",
       " 'chronic.py',\n",
       " 'codin challence 3 water trap.py',\n",
       " 'continue.py',\n",
       " 'count().py',\n",
       " 'csv.csv',\n",
       " 'dict 3.py',\n",
       " 'dict 5.py',\n",
       " 'dict 7.py',\n",
       " 'dict in dict.py',\n",
       " 'dict task.py',\n",
       " 'dictionary.py',\n",
       " 'dilekçe.py',\n",
       " 'dizeler.py',\n",
       " 'dosya işlemleri',\n",
       " 'dosya-içerik karşılaştırma-2.py',\n",
       " 'dosya_orca.txt',\n",
       " 'dummmy_file.txt',\n",
       " 'dummy_file.txt',\n",
       " 'edding.py',\n",
       " 'end starswith.py',\n",
       " 'endswith.py',\n",
       " 'eval vs exec.py',\n",
       " 'eval-fonksiyonu.py',\n",
       " 'f string(1).py',\n",
       " 'f strıng.py',\n",
       " 'f.str.py',\n",
       " 'fibonacci ass_5.py',\n",
       " 'file .ipynb',\n",
       " 'file work.ipynb',\n",
       " 'find, rfind().py',\n",
       " 'first_file.txt',\n",
       " 'fishes.txt',\n",
       " \"flowers = ['Rose', 'Orchid.py\",\n",
       " 'flowers =.py',\n",
       " 'flowers.txt',\n",
       " 'for while.py',\n",
       " 'for-loop.py',\n",
       " 'for-şfire deneme-hakkı.py',\n",
       " 'format-metodu.py',\n",
       " 'format.py',\n",
       " 'fotmat_metod_dilekce.py',\n",
       " 'fruits.txt',\n",
       " 'fruits_24.txt',\n",
       " 'fruits_file.txt',\n",
       " 'function work.ipynb',\n",
       " 'function.py',\n",
       " 'functions (3).ipynb',\n",
       " 'functions (4).ipynb',\n",
       " 'functions (5).ipynb',\n",
       " 'functions.ipynb',\n",
       " 'imag.png',\n",
       " 'in class loop.py',\n",
       " 'istiklal.txt',\n",
       " 'largest.py',\n",
       " 'liste = [3,1,2].py',\n",
       " 'loop 5.py',\n",
       " 'loop8.py',\n",
       " 'math.py',\n",
       " 'my_fishes.txt',\n",
       " 'new_file.txt',\n",
       " 'permütasyon.ipynb',\n",
       " 'Python worshop-1-1.py',\n",
       " 'Python worshop-1.py',\n",
       " 'python3.gdoc',\n",
       " 'replace 3',\n",
       " 'replace-1.py',\n",
       " 'replace-2.py',\n",
       " 'replace.py',\n",
       " 'rumi.txt',\n",
       " 'Sti_Trace.log',\n",
       " 'test.1.py',\n",
       " 'testmodul.py',\n",
       " 'test_file.py',\n",
       " 'untitled',\n",
       " 'Untitled-1.py',\n",
       " 'Untitled.ipynb',\n",
       " 'untitled1',\n",
       " 'Untitled1.ipynb',\n",
       " 'untitled16.py',\n",
       " 'Untitled2.ipynb',\n",
       " 'untitled2.py',\n",
       " 'Untitled3.ipynb',\n",
       " 'Untitled4 (1).ipynb',\n",
       " 'Untitled4 (2).ipynb',\n",
       " 'Untitled4 (3).ipynb',\n",
       " 'Untitled4 (4).ipynb',\n",
       " 'Untitled4 (5).ipynb',\n",
       " 'Untitled4 (6).ipynb',\n",
       " 'Untitled4.ipynb',\n",
       " 'upper_package',\n",
       " 'waterquestions.py',\n",
       " 'waterquestions.txt',\n",
       " 'workshop-2(student).ipynb',\n",
       " 'ws-1 q6-1.py',\n",
       " 'ws-1 q6.py',\n",
       " 'ws-2.rtf',\n",
       " '[ ] str ifade yazdırma.py',\n",
       " '_ f string.py',\n",
       " '_ ifadeler.py',\n",
       " 'çalışma tm nisan 16 6..py',\n",
       " 'çalışma.py']"
      ]
     },
     "execution_count": 3,
     "metadata": {},
     "output_type": "execute_result"
    }
   ],
   "source": [
    "os.listdir()  # working directoryde ne varsa"
   ]
  },
  {
   "cell_type": "code",
   "execution_count": 9,
   "metadata": {},
   "outputs": [],
   "source": [
    "import glob   # tür seçelim"
   ]
  },
  {
   "cell_type": "code",
   "execution_count": 10,
   "metadata": {},
   "outputs": [
    {
     "name": "stdout",
     "output_type": "stream",
     "text": [
      "#The most Frequent.txt\n",
      "anagramm.txt\n",
      "ass2_4.soru.txt\n",
      "benim_ilk _dosya.txt\n",
      "dosya_orca.txt\n",
      "dummmy_file.txt\n",
      "dummy_file.txt\n",
      "first_file.txt\n",
      "fishes.txt\n",
      "flowers.txt\n",
      "fruits.txt\n",
      "fruits_24.txt\n",
      "fruits_file.txt\n",
      "istiklal.txt\n",
      "my_fishes.txt\n",
      "new_file.txt\n",
      "rumi.txt\n",
      "waterquestions.txt\n"
     ]
    }
   ],
   "source": [
    "for file in glob.glob(\"*.txt\"):    # txt     seçtik\n",
    "    print(file)"
   ]
  },
  {
   "cell_type": "code",
   "execution_count": 11,
   "metadata": {},
   "outputs": [],
   "source": [
    "import shutil                   # dosyayı kopyaladı götürdü"
   ]
  },
  {
   "cell_type": "code",
   "execution_count": 13,
   "metadata": {},
   "outputs": [
    {
     "data": {
      "text/plain": [
       "'../mevlana.txt'"
      ]
     },
     "execution_count": 13,
     "metadata": {},
     "output_type": "execute_result"
    }
   ],
   "source": [
    "shutil.copy(\"rumi.txt\",\"../mevlana.txt\")   # kaynaktan aldı son durağa götürdü"
   ]
  },
  {
   "cell_type": "markdown",
   "metadata": {},
   "source": [
    "### factoriel recursion mantığı önemli"
   ]
  },
  {
   "cell_type": "code",
   "execution_count": 41,
   "metadata": {},
   "outputs": [],
   "source": [
    "def facto(n):\n",
    "    if n ==0: return 1\n",
    "    \n",
    "    else:\n",
    "        return n*facto(n-1)"
   ]
  },
  {
   "cell_type": "code",
   "execution_count": 43,
   "metadata": {},
   "outputs": [
    {
     "data": {
      "text/plain": [
       "720"
      ]
     },
     "execution_count": 43,
     "metadata": {},
     "output_type": "execute_result"
    }
   ],
   "source": [
    "facto(6)   # fonk içinde fonk kullanmak çok güzel"
   ]
  },
  {
   "cell_type": "code",
   "execution_count": null,
   "metadata": {},
   "outputs": [],
   "source": []
  },
  {
   "cell_type": "code",
   "execution_count": null,
   "metadata": {},
   "outputs": [],
   "source": []
  },
  {
   "cell_type": "code",
   "execution_count": null,
   "metadata": {},
   "outputs": [],
   "source": []
  },
  {
   "cell_type": "code",
   "execution_count": null,
   "metadata": {},
   "outputs": [],
   "source": []
  },
  {
   "cell_type": "code",
   "execution_count": null,
   "metadata": {},
   "outputs": [],
   "source": []
  },
  {
   "cell_type": "code",
   "execution_count": null,
   "metadata": {},
   "outputs": [],
   "source": []
  }
 ],
 "metadata": {
  "kernelspec": {
   "display_name": "Python 3",
   "language": "python",
   "name": "python3"
  },
  "language_info": {
   "codemirror_mode": {
    "name": "ipython",
    "version": 3
   },
   "file_extension": ".py",
   "mimetype": "text/x-python",
   "name": "python",
   "nbconvert_exporter": "python",
   "pygments_lexer": "ipython3",
   "version": "3.8.5"
  }
 },
 "nbformat": 4,
 "nbformat_minor": 4
}

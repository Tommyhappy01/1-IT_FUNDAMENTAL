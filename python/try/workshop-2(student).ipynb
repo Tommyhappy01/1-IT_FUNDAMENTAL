{
 "cells": [
  {
   "cell_type": "markdown",
   "metadata": {},
   "source": [
    "<center><img src=\"https://github.com/aaron-clarusway/fullstack/blob/master/itf-logo.png?raw=true\"  alt=\"alt text\" width=\"200\"/></center>\n",
    "<br>\n",
    "<h1><p style=\"text-align: center; color:darkblue\">Python Basic</p><h1>\n",
    "<center><h1>Workshop - 2</h1></center>\n",
    "<p><img align=\"right\"\n",
    "  src=\"https://secure.meetupstatic.com/photos/event/3/1/b/9/600_488352729.jpeg\"  width=\"15px\"></p>\n",
    "<br>\n",
    "\n",
    "\n",
    "# Subject: Collections - Control Flow Statements"
   ]
  },
  {
   "cell_type": "markdown",
   "metadata": {},
   "source": [
    "## Coding Challenge-1 : Find the Largest Number\n",
    "\n",
    "Purpose of the this coding challenge is to solve a simple sorting problem in Python.\n",
    "\n",
    "### Learning Outcomes\n",
    "\n",
    "At the end of the this coding challenge, students will be able to;\n",
    "\n",
    "- get a basic understanding of sorting algorithms.\n",
    "- demonstrate their knowledge of lists in python\n",
    "- implement loops to solve the problems in python\n",
    "- get a better understanding of computational thinking concepts\n",
    "\n",
    "### Problem Statement\n",
    "  \n",
    "- Write a python code that finds the largest number among the ``n`` numbers given by the user as input.\n",
    "\n",
    "- First, take `n` from the user, then take `n` numbers one by one and select-print the largest one.\n",
    "\n",
    "- It is forbidden to use ``max()`` function.  \n",
    "\n",
    "- Indicate which computational thinking concepts have you used.\n",
    "\n",
    "- Example for user inputs and respective outputs\n",
    "\n",
    "```text\n",
    "Input                Output\n",
    "---------------:     -------------------------:\n",
    "n = 5, 1 2 3 4 5     The largest number is:  5\n",
    "n = 3, 67 85 19      The largest number is:  85\n",
    "```"
   ]
  },
  {
   "cell_type": "markdown",
   "metadata": {},
   "source": [
    "### Solution :"
   ]
  },
  {
   "cell_type": "code",
   "execution_count": 4,
   "metadata": {},
   "outputs": [
    {
     "name": "stdout",
     "output_type": "stream",
     "text": [
      "How many numbers will you enter?7\n",
      "Please enter the number: 6\n",
      "Please enter the number: 6\n",
      "Please enter the number: 6\n",
      "Please enter the number: 6\n",
      "Please enter the number: 6\n",
      "Please enter the number: 6\n",
      "Please enter the number: 65\n",
      "The largest number is :  65\n"
     ]
    }
   ],
   "source": []
  },
  {
   "cell_type": "markdown",
   "metadata": {},
   "source": [
    "## Coding Challenge-2 : Group Anagrams\n",
    "\n",
    "Purpose of the this coding challenge is to solve a grouping algorithm in Python.\n",
    "\n",
    "### Learning Outcomes\n",
    "\n",
    "At the end of the this coding challenge, students will be able to;\n",
    "\n",
    "- get a basic understanding of grouping algorithms.\n",
    "- demonstrate their knowledge of lists, dicts in python\n",
    "- implement loops to solve the problems in python\n",
    "- get a better understanding of computational thinking concepts\n",
    "\n",
    "### Problem Statement\n",
    "  \n",
    "- Given a list of strings, group anagrams together.\n",
    "\n",
    "- Example:\n",
    "\n",
    "**Input:**\n",
    "```\n",
    "[\"eat\", \"tea\", \"tan\", \"ate\", \"nat\", \"bat\"],\n",
    "Output:\n",
    "[\n",
    "  [\"ate\",\"eat\",\"tea\"],\n",
    "  [\"nat\",\"tan\"],\n",
    "  [\"bat\"]\n",
    "]\n",
    "```\n",
    "Note:\n",
    "All inputs will be in lowercase.\n",
    "The order of your output does not matter."
   ]
  },
  {
   "cell_type": "markdown",
   "metadata": {},
   "source": [
    "### Solution :"
   ]
  },
  {
   "cell_type": "code",
   "execution_count": 5,
   "metadata": {},
   "outputs": [
    {
     "name": "stdout",
     "output_type": "stream",
     "text": [
      "[['eat', 'tea', 'ate'], ['tan', 'nat'], ['bat'], ['cat', 'tac']]\n"
     ]
    }
   ],
   "source": [
    "strs = [\"eat\", \"tea\", \"tan\", \"ate\", \"nat\", \"bat\", \"cat\", \"tac\"]"
   ]
  },
  {
   "cell_type": "markdown",
   "metadata": {},
   "source": [
    "## Coding Challenge - 3: Calculating the Amount of Water to be Trapped on Terrain\n",
    "\n",
    "The purpose of this coding challenge is to write a program that calculates the amount of water that can be contained within the generated holes.\n",
    "\n",
    "### Learning Outcomes\n",
    "\n",
    "At the end of this coding challenge, students will be able to;\n",
    "\n",
    "- analyze a problem, identify, and apply programming knowledge for appropriate solution.\n",
    "\n",
    "- design, implement `while` loops effectively in Python to solve the given problem.\n",
    "\n",
    "- control loops effectively by using `if` and `control` statements.\n",
    "\n",
    "- demonstrate their knowledge of algorithmic design principles by using solving the problem effectively.\n",
    "\n",
    "### Problem Statement\n",
    "\n",
    "- Given an array of non-negative integers representing an elevation map as shown below where the width of each bar is 1, compute how much water will be trapped on terrain after raining. To clarify further, the black boxes represents terrain and its height, and the blue boxes represents the water that could be trapped on the terrain.\n",
    "\n",
    "![image](./image.png)\n",
    "\n",
    "- User can enter as many numbers as they want to represent elevation of the terrain.\n",
    "\n",
    "- You can assume all the inputs are valid, thus you don't have to do an input check.\n",
    "\n",
    "- At the end of the program write a comment that indicates which computational thinking heuristics you have used and how you used them.\n",
    "\n",
    "- Example of user inputs and respective outputs.\n",
    "\n",
    "```text\n",
    "Inputs\n",
    "------------------------------\n",
    "Type 'ok' when you are done: 5\n",
    "Type 'ok' when you are done: 4\n",
    "Type 'ok' when you are done: 5\n",
    "Type 'ok' when you are done: ok\n",
    "\n",
    "Output\n",
    "------\n",
    "1\n",
    "\n",
    "Inputs\n",
    "------------------------------\n",
    "Type 'ok' when you are done: 2\n",
    "Type 'ok' when you are done: 1\n",
    "Type 'ok' when you are done: 2\n",
    "Type 'ok' when you are done: 3\n",
    "Type 'ok' when you are done: 2\n",
    "Type 'ok' when you are done: 3\n",
    "Type 'ok' when you are done: ok\n",
    "\n",
    "Output\n",
    "------\n",
    "2\n",
    "\n",
    "Inputs\n",
    "------------------------------\n",
    "Type 'ok' when you are done: 6\n",
    "Type 'ok' when you are done: 5\n",
    "Type 'ok' when you are done: 8\n",
    "Type 'ok' when you are done: 9\n",
    "Type 'ok' when you are done: 2\n",
    "Type 'ok' when you are done: 4\n",
    "Type 'ok' when you are done: 3\n",
    "Type 'ok' when you are done: 6\n",
    "Type 'ok' when you are done: ok\n",
    "\n",
    "Output\n",
    "------\n",
    "10\n",
    "```"
   ]
  },
  {
   "cell_type": "markdown",
   "metadata": {},
   "source": [
    "### Solution :"
   ]
  },
  {
   "cell_type": "code",
   "execution_count": 7,
   "metadata": {},
   "outputs": [
    {
     "name": "stdout",
     "output_type": "stream",
     "text": [
      "Type 'ok' when you are done: 4\n",
      "Type 'ok' when you are done: 3\n",
      "Type 'ok' when you are done: 6\n",
      "Type 'ok' when you are done: 0\n",
      "Type 'ok' when you are done: 1\n",
      "Type 'ok' when you are done: 0\n",
      "Type 'ok' when you are done: 2\n",
      "Type 'ok' when you are done: ok\n",
      "\n",
      "Rain-trapped area :  6\n"
     ]
    }
   ],
   "source": []
  },
  {
   "cell_type": "code",
   "execution_count": null,
   "metadata": {},
   "outputs": [],
   "source": []
  }
 ],
 "metadata": {
  "kernelspec": {
   "display_name": "Python 3",
   "language": "python",
   "name": "python3"
  },
  "language_info": {
   "codemirror_mode": {
    "name": "ipython",
    "version": 3
   },
   "file_extension": ".py",
   "mimetype": "text/x-python",
   "name": "python",
   "nbconvert_exporter": "python",
   "pygments_lexer": "ipython3",
   "version": "3.7.3"
  }
 },
 "nbformat": 4,
 "nbformat_minor": 2
}
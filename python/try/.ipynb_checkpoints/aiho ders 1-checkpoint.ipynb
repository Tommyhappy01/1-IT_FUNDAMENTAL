{
 "cells": [
  {
   "cell_type": "code",
   "execution_count": 1,
   "metadata": {
    "colab": {
     "base_uri": "https://localhost:8080/",
     "height": 163
    },
    "executionInfo": {
     "elapsed": 589,
     "status": "error",
     "timestamp": 1614800166937,
     "user": {
      "displayName": "Tommy happy",
      "photoUrl": "",
      "userId": "04276742950120302566"
     },
     "user_tz": -180
    },
    "id": "Gy95J4GJk7rJ",
    "outputId": "eade7199-dceb-49cf-fa0a-111023084545"
   },
   "outputs": [
    {
     "ename": "NameError",
     "evalue": "name 'name' is not defined",
     "output_type": "error",
     "traceback": [
      "\u001b[1;31m---------------------------------------------------------------------------\u001b[0m",
      "\u001b[1;31mNameError\u001b[0m                                 Traceback (most recent call last)",
      "\u001b[1;32m<ipython-input-1-b49118aa999f>\u001b[0m in \u001b[0;36m<module>\u001b[1;34m\u001b[0m\n\u001b[1;32m----> 1\u001b[1;33m \u001b[0mname\u001b[0m\u001b[1;33m(\u001b[0m\u001b[1;34m'Hello World'\u001b[0m\u001b[1;33m)\u001b[0m\u001b[1;33m\u001b[0m\u001b[1;33m\u001b[0m\u001b[0m\n\u001b[0m",
      "\u001b[1;31mNameError\u001b[0m: name 'name' is not defined"
     ]
    }
   ],
   "source": [
    "name('Hello World')\n"
   ]
  },
  {
   "cell_type": "code",
   "execution_count": 3,
   "metadata": {
    "colab": {
     "base_uri": "https://localhost:8080/"
    },
    "executionInfo": {
     "elapsed": 657,
     "status": "ok",
     "timestamp": 1614799945112,
     "user": {
      "displayName": "Tommy happy",
      "photoUrl": "",
      "userId": "04276742950120302566"
     },
     "user_tz": -180
    },
    "id": "GrSPBzeHi9Rg",
    "outputId": "070f6ef1-2fd2-452e-b73e-dfebcd7bdfb1"
   },
   "outputs": [
    {
     "name": "stdout",
     "output_type": "stream",
     "text": [
      "Hello World!\n"
     ]
    }
   ],
   "source": [
    "print(\"Hello World!\")"
   ]
  },
  {
   "cell_type": "code",
   "execution_count": 4,
   "metadata": {
    "colab": {
     "base_uri": "https://localhost:8080/"
    },
    "executionInfo": {
     "elapsed": 563,
     "status": "ok",
     "timestamp": 1614800331986,
     "user": {
      "displayName": "Tommy happy",
      "photoUrl": "",
      "userId": "04276742950120302566"
     },
     "user_tz": -180
    },
    "id": "g7qb0reYmYCy",
    "outputId": "69c00f3d-c524-42ac-8e3b-3181abeaf3d2"
   },
   "outputs": [
    {
     "name": "stdout",
     "output_type": "stream",
     "text": [
      "eymen ders Hello World!\n"
     ]
    }
   ],
   "source": [
    "print(\"eymen ders Hello World!\")"
   ]
  },
  {
   "cell_type": "code",
   "execution_count": 5,
   "metadata": {
    "colab": {
     "base_uri": "https://localhost:8080/"
    },
    "executionInfo": {
     "elapsed": 621,
     "status": "ok",
     "timestamp": 1614800368032,
     "user": {
      "displayName": "Tommy happy",
      "photoUrl": "",
      "userId": "04276742950120302566"
     },
     "user_tz": -180
    },
    "id": "pu21dheXmaJt",
    "outputId": "e2048f68-924d-44be-a888-017e6de895e7"
   },
   "outputs": [
    {
     "name": "stdout",
     "output_type": "stream",
     "text": [
      "oğlum dersini aç tenefüse daha var!\n"
     ]
    }
   ],
   "source": [
    "print(\"oğlum dersini aç tenefüse daha var!\")"
   ]
  },
  {
   "cell_type": "code",
   "execution_count": null,
   "metadata": {
    "colab": {
     "base_uri": "https://localhost:8080/",
     "height": 163
    },
    "executionInfo": {
     "elapsed": 626,
     "status": "error",
     "timestamp": 1614800429156,
     "user": {
      "displayName": "Tommy happy",
      "photoUrl": "",
      "userId": "04276742950120302566"
     },
     "user_tz": -180
    },
    "id": "5sI-xjFbmnfj",
    "outputId": "224f3665-a8d6-42ba-c8dc-fd91e7426f13"
   },
   "outputs": [],
   "source": []
  },
  {
   "cell_type": "code",
   "execution_count": 11,
   "metadata": {
    "colab": {
     "base_uri": "https://localhost:8080/"
    },
    "executionInfo": {
     "elapsed": 649,
     "status": "ok",
     "timestamp": 1614800498717,
     "user": {
      "displayName": "Tommy happy",
      "photoUrl": "",
      "userId": "04276742950120302566"
     },
     "user_tz": -180
    },
    "id": "C9jqmSLYmi8A",
    "outputId": "4fbf69c5-848f-4111-c890-d4151c9d3b5a"
   },
   "outputs": [
    {
     "name": "stdout",
     "output_type": "stream",
     "text": [
      "ders ders ders\n"
     ]
    }
   ],
   "source": [
    "print(\"ders ders ders\")"
   ]
  },
  {
   "cell_type": "code",
   "execution_count": 15,
   "metadata": {
    "colab": {
     "base_uri": "https://localhost:8080/"
    },
    "executionInfo": {
     "elapsed": 614,
     "status": "ok",
     "timestamp": 1614800630067,
     "user": {
      "displayName": "Tommy happy",
      "photoUrl": "",
      "userId": "04276742950120302566"
     },
     "user_tz": -180
    },
    "id": "JSQmNkfUnC1p",
    "outputId": "5cca72af-00fe-4c34-909b-a12626874d3d"
   },
   "outputs": [
    {
     "name": "stdout",
     "output_type": "stream",
     "text": [
      "I'm happy to learn\n"
     ]
    }
   ],
   "source": [
    "print( \"I'm happy to learn\")"
   ]
  },
  {
   "cell_type": "code",
   "execution_count": 16,
   "metadata": {
    "colab": {
     "base_uri": "https://localhost:8080/"
    },
    "executionInfo": {
     "elapsed": 576,
     "status": "ok",
     "timestamp": 1614800700105,
     "user": {
      "displayName": "Tommy happy",
      "photoUrl": "",
      "userId": "04276742950120302566"
     },
     "user_tz": -180
    },
    "id": "Er0FrzbLnQQm",
    "outputId": "dc03fca9-2994-45cb-cd23-d9101c30ebf9"
   },
   "outputs": [
    {
     "name": "stdout",
     "output_type": "stream",
     "text": [
      "ajshfja \"22222233333333\" \n"
     ]
    }
   ],
   "source": [
    "print('ajshfja \"22222233333333\" ')"
   ]
  },
  {
   "cell_type": "code",
   "execution_count": 18,
   "metadata": {
    "colab": {
     "base_uri": "https://localhost:8080/"
    },
    "executionInfo": {
     "elapsed": 685,
     "status": "ok",
     "timestamp": 1614800800730,
     "user": {
      "displayName": "Tommy happy",
      "photoUrl": "",
      "userId": "04276742950120302566"
     },
     "user_tz": -180
    },
    "id": "r5XqoWeAn0BN",
    "outputId": "afed9a89-d9ad-4308-b091-fee91092d1c2"
   },
   "outputs": [
    {
     "name": "stdout",
     "output_type": "stream",
     "text": [
      "hfjdsfdf6\n"
     ]
    }
   ],
   "source": [
    "print(\"hfjdsfdf6\")"
   ]
  },
  {
   "cell_type": "code",
   "execution_count": null,
   "metadata": {
    "id": "HetkH3_QoKQt"
   },
   "outputs": [],
   "source": []
  },
  {
   "cell_type": "code",
   "execution_count": 19,
   "metadata": {
    "colab": {
     "base_uri": "https://localhost:8080/",
     "height": 146
    },
    "executionInfo": {
     "elapsed": 598,
     "status": "error",
     "timestamp": 1614800841791,
     "user": {
      "displayName": "Tommy happy",
      "photoUrl": "",
      "userId": "04276742950120302566"
     },
     "user_tz": -180
    },
    "id": "QynDon8OoO9K",
    "outputId": "7ffa6112-dfde-47c1-9d22-7b2e04fae40e"
   },
   "outputs": [
    {
     "ename": "SyntaxError",
     "evalue": "ignored",
     "output_type": "error",
     "traceback": [
      "\u001b[0;36m  File \u001b[0;32m\"<ipython-input-19-64ee81073be3>\"\u001b[0;36m, line \u001b[0;32m4\u001b[0m\n\u001b[0;31m    23335'''\u001b[0m\n\u001b[0m            \n^\u001b[0m\n\u001b[0;31mSyntaxError\u001b[0m\u001b[0;31m:\u001b[0m invalid syntax\n"
     ]
    }
   ],
   "source": [
    "print'''dsfdgfdg\n",
    "fgfdgsd\n",
    "gsdfgfdg\n",
    "23335'''"
   ]
  },
  {
   "cell_type": "code",
   "execution_count": 20,
   "metadata": {
    "colab": {
     "base_uri": "https://localhost:8080/"
    },
    "executionInfo": {
     "elapsed": 600,
     "status": "ok",
     "timestamp": 1614800862586,
     "user": {
      "displayName": "Tommy happy",
      "photoUrl": "",
      "userId": "04276742950120302566"
     },
     "user_tz": -180
    },
    "id": "dCZpf-rSoWm8",
    "outputId": "97b6e42e-c645-43cf-8ba4-13dacc2253be"
   },
   "outputs": [
    {
     "name": "stdout",
     "output_type": "stream",
     "text": [
      "hgshgsd gsdıusdug\n",
      "djhgksdhgkjsd\n",
      "\n",
      "222222222\n"
     ]
    }
   ],
   "source": [
    "print('''hgshgsd gsdıusdug\n",
    "djhgksdhgkjsd\n",
    "\n",
    "222222222''')"
   ]
  },
  {
   "cell_type": "code",
   "execution_count": null,
   "metadata": {
    "id": "Y-5WJcZ6obrp"
   },
   "outputs": [],
   "source": []
  },
  {
   "cell_type": "markdown",
   "metadata": {
    "id": "p2BCgEaPoguj"
   },
   "source": [
    "notlarım"
   ]
  },
  {
   "cell_type": "code",
   "execution_count": 21,
   "metadata": {
    "colab": {
     "base_uri": "https://localhost:8080/"
    },
    "executionInfo": {
     "elapsed": 752,
     "status": "ok",
     "timestamp": 1614800996842,
     "user": {
      "displayName": "Tommy happy",
      "photoUrl": "",
      "userId": "04276742950120302566"
     },
     "user_tz": -180
    },
    "id": "RYvrPQ8romlQ",
    "outputId": "014e00e3-d16f-4388-de59-dd70865d3148"
   },
   "outputs": [
    {
     "name": "stdout",
     "output_type": "stream",
     "text": [
      "bana topçu diye bağırdı.dersine bakkkkkkkkkkkkk \n"
     ]
    }
   ],
   "source": [
    "print(\"\"\"bana topçu diye bağırdı.dersine bakkkkkkkkkkkkk \"\"\")\n"
   ]
  },
  {
   "cell_type": "code",
   "execution_count": 6,
   "metadata": {
    "colab": {
     "base_uri": "https://localhost:8080/"
    },
    "executionInfo": {
     "elapsed": 594,
     "status": "ok",
     "timestamp": 1614801025172,
     "user": {
      "displayName": "Tommy happy",
      "photoUrl": "",
      "userId": "04276742950120302566"
     },
     "user_tz": -180
    },
    "id": "bmOL3ALDo8bB",
    "outputId": "13315678-171d-4410-d6a1-978d8a82886d"
   },
   "outputs": [
    {
     "name": "stdout",
     "output_type": "stream",
     "text": [
      "ders\n"
     ]
    }
   ],
   "source": [
    "print('''ders''')"
   ]
  },
  {
   "cell_type": "code",
   "execution_count": null,
   "metadata": {
    "id": "ij0b_2REpDYR"
   },
   "outputs": [],
   "source": []
  },
  {
   "cell_type": "markdown",
   "metadata": {
    "id": "qOMW3O8fpEeB"
   },
   "source": [
    "ders çalışşşş"
   ]
  },
  {
   "cell_type": "code",
   "execution_count": 23,
   "metadata": {
    "colab": {
     "base_uri": "https://localhost:8080/"
    },
    "executionInfo": {
     "elapsed": 667,
     "status": "ok",
     "timestamp": 1614802702665,
     "user": {
      "displayName": "Tommy happy",
      "photoUrl": "",
      "userId": "04276742950120302566"
     },
     "user_tz": -180
    },
    "id": "H7vRD0AqvWW9",
    "outputId": "9e111eba-69a9-4adf-dc67-3cf553faef75"
   },
   "outputs": [
    {
     "name": "stdout",
     "output_type": "stream",
     "text": [
      "bana güzelce seslendi\n"
     ]
    }
   ],
   "source": [
    "print('''bana güzelce seslendi''')"
   ]
  },
  {
   "cell_type": "code",
   "execution_count": 24,
   "metadata": {
    "colab": {
     "base_uri": "https://localhost:8080/"
    },
    "executionInfo": {
     "elapsed": 569,
     "status": "ok",
     "timestamp": 1614802752808,
     "user": {
      "displayName": "Tommy happy",
      "photoUrl": "",
      "userId": "04276742950120302566"
     },
     "user_tz": -180
    },
    "id": "T6ZfSGFxvc6C",
    "outputId": "828f93ec-c503-41fd-fa17-edcf8096a3c4"
   },
   "outputs": [
    {
     "name": "stdout",
     "output_type": "stream",
     "text": [
      "fdsmbf jdsfndj     jdnfjdsng   \n",
      "jfdjgndjskgn  ndjgnfjd harabjaber\n"
     ]
    }
   ],
   "source": [
    "print('''fdsmbf jdsfndj     jdnfjdsng   \n",
    "jfdjgndjskgn  ndjgnfjd harabjaber''')"
   ]
  },
  {
   "cell_type": "code",
   "execution_count": 26,
   "metadata": {
    "colab": {
     "base_uri": "https://localhost:8080/"
    },
    "executionInfo": {
     "elapsed": 611,
     "status": "ok",
     "timestamp": 1614802870984,
     "user": {
      "displayName": "Tommy happy",
      "photoUrl": "",
      "userId": "04276742950120302566"
     },
     "user_tz": -180
    },
    "id": "z79b5APgvpK2",
    "outputId": "e398a0d6-6e5a-41c4-a9a8-3f20674d352a"
   },
   "outputs": [
    {
     "name": "stdout",
     "output_type": "stream",
     "text": [
      "3.14\n",
      "3.14\n"
     ]
    }
   ],
   "source": [
    "print('3.14')\n",
    "print(3.14)\n"
   ]
  },
  {
   "cell_type": "code",
   "execution_count": 28,
   "metadata": {
    "colab": {
     "base_uri": "https://localhost:8080/"
    },
    "executionInfo": {
     "elapsed": 1131,
     "status": "ok",
     "timestamp": 1614803028669,
     "user": {
      "displayName": "Tommy happy",
      "photoUrl": "",
      "userId": "04276742950120302566"
     },
     "user_tz": -180
    },
    "id": "4cWP8ef9v535",
    "outputId": "b24d246c-ceba-4116-ad66-7a68cde378f1"
   },
   "outputs": [
    {
     "name": "stdout",
     "output_type": "stream",
     "text": [
      "print(3.14)\n"
     ]
    }
   ],
   "source": [
    "print(\"print(3.14)\")"
   ]
  },
  {
   "cell_type": "code",
   "execution_count": 29,
   "metadata": {
    "colab": {
     "base_uri": "https://localhost:8080/"
    },
    "executionInfo": {
     "elapsed": 1100,
     "status": "ok",
     "timestamp": 1614803185524,
     "user": {
      "displayName": "Tommy happy",
      "photoUrl": "",
      "userId": "04276742950120302566"
     },
     "user_tz": -180
    },
    "id": "9vyN9vgzwqJB",
    "outputId": "cd029831-bd9f-4d71-baa5-33c30f0bed87"
   },
   "outputs": [
    {
     "name": "stdout",
     "output_type": "stream",
     "text": [
      "'dkjshgkjs djg jds dj\n"
     ]
    }
   ],
   "source": [
    "print(''''dkjshgkjs djg jds dj''')"
   ]
  },
  {
   "cell_type": "code",
   "execution_count": 30,
   "metadata": {
    "colab": {
     "base_uri": "https://localhost:8080/"
    },
    "executionInfo": {
     "elapsed": 598,
     "status": "ok",
     "timestamp": 1614803273292,
     "user": {
      "displayName": "Tommy happy",
      "photoUrl": "",
      "userId": "04276742950120302566"
     },
     "user_tz": -180
    },
    "id": "Dm39cUBYxSr6",
    "outputId": "86c4092f-908c-4203-b83d-276e322965e6"
   },
   "outputs": [
    {
     "name": "stdout",
     "output_type": "stream",
     "text": [
      "dfgfdgfdhdfhfd'\n"
     ]
    }
   ],
   "source": [
    "print(\"\"\"dfgfdgfdhdfhfd'\"\"\")"
   ]
  },
  {
   "cell_type": "code",
   "execution_count": 32,
   "metadata": {
    "colab": {
     "base_uri": "https://localhost:8080/",
     "height": 129
    },
    "executionInfo": {
     "elapsed": 605,
     "status": "error",
     "timestamp": 1614803345192,
     "user": {
      "displayName": "Tommy happy",
      "photoUrl": "",
      "userId": "04276742950120302566"
     },
     "user_tz": -180
    },
    "id": "RsD4GcndxoO7",
    "outputId": "fc705f9f-ce0e-4f1e-e309-1a2496e70a3c"
   },
   "outputs": [
    {
     "ename": "SyntaxError",
     "evalue": "ignored",
     "output_type": "error",
     "traceback": [
      "\u001b[0;36m  File \u001b[0;32m\"<ipython-input-32-ca57ebfb912c>\"\u001b[0;36m, line \u001b[0;32m1\u001b[0m\n\u001b[0;31m    print(''''''''''')\u001b[0m\n\u001b[0m                      ^\u001b[0m\n\u001b[0;31mSyntaxError\u001b[0m\u001b[0;31m:\u001b[0m EOF while scanning triple-quoted string literal\n"
     ]
    }
   ],
   "source": [
    "print(''''''''''')"
   ]
  },
  {
   "cell_type": "code",
   "execution_count": 33,
   "metadata": {
    "colab": {
     "base_uri": "https://localhost:8080/"
    },
    "executionInfo": {
     "elapsed": 564,
     "status": "ok",
     "timestamp": 1614803393883,
     "user": {
      "displayName": "Tommy happy",
      "photoUrl": "",
      "userId": "04276742950120302566"
     },
     "user_tz": -180
    },
    "id": "PyQT0Nfrx2wM",
    "outputId": "ebfec8aa-6647-4280-8bc0-f8c9303493f4"
   },
   "outputs": [
    {
     "name": "stdout",
     "output_type": "stream",
     "text": [
      "\n"
     ]
    }
   ],
   "source": [
    "print('''''''''''')"
   ]
  },
  {
   "cell_type": "code",
   "execution_count": 36,
   "metadata": {
    "colab": {
     "base_uri": "https://localhost:8080/"
    },
    "executionInfo": {
     "elapsed": 625,
     "status": "ok",
     "timestamp": 1614803454485,
     "user": {
      "displayName": "Tommy happy",
      "photoUrl": "",
      "userId": "04276742950120302566"
     },
     "user_tz": -180
    },
    "id": "stfzsYvEyFrz",
    "outputId": "ec4fe7ba-ab18-4b3c-e635-c54a156dba34"
   },
   "outputs": [
    {
     "name": "stdout",
     "output_type": "stream",
     "text": [
      "11\n"
     ]
    }
   ],
   "source": [
    "print(\"\"\"1\"\"\"\"\"\"1\"\"\")"
   ]
  },
  {
   "cell_type": "code",
   "execution_count": 38,
   "metadata": {
    "colab": {
     "base_uri": "https://localhost:8080/"
    },
    "executionInfo": {
     "elapsed": 607,
     "status": "ok",
     "timestamp": 1614803544918,
     "user": {
      "displayName": "Tommy happy",
      "photoUrl": "",
      "userId": "04276742950120302566"
     },
     "user_tz": -180
    },
    "id": "Qri5IS5ryPdk",
    "outputId": "3b1dad3a-fc2f-4898-8a52-f29456960904"
   },
   "outputs": [
    {
     "name": "stdout",
     "output_type": "stream",
     "text": [
      "222222222222\n"
     ]
    }
   ],
   "source": [
    "print(\"\"\"222\"\"\"'''222222222''')"
   ]
  },
  {
   "cell_type": "code",
   "execution_count": null,
   "metadata": {
    "id": "Zhj0tD1Fzhk_"
   },
   "outputs": [],
   "source": []
  },
  {
   "cell_type": "code",
   "execution_count": null,
   "metadata": {
    "id": "IxKl52uTzhc7"
   },
   "outputs": [],
   "source": []
  },
  {
   "cell_type": "code",
   "execution_count": null,
   "metadata": {
    "id": "S96D-JR0zhMU"
   },
   "outputs": [],
   "source": []
  },
  {
   "cell_type": "code",
   "execution_count": null,
   "metadata": {
    "id": "nm2YL13bzg4Q"
   },
   "outputs": [],
   "source": []
  },
  {
   "cell_type": "code",
   "execution_count": 39,
   "metadata": {
    "colab": {
     "base_uri": "https://localhost:8080/",
     "height": 129
    },
    "executionInfo": {
     "elapsed": 599,
     "status": "error",
     "timestamp": 1614804092738,
     "user": {
      "displayName": "Tommy happy",
      "photoUrl": "",
      "userId": "04276742950120302566"
     },
     "user_tz": -180
    },
    "id": "bppRXJaCymWA",
    "outputId": "07212e32-95a9-4a0a-8cb9-1582ee9063a5"
   },
   "outputs": [
    {
     "ename": "SyntaxError",
     "evalue": "ignored",
     "output_type": "error",
     "traceback": [
      "\u001b[0;36m  File \u001b[0;32m\"<ipython-input-39-4b777b03c816>\"\u001b[0;36m, line \u001b[0;32m1\u001b[0m\n\u001b[0;31m    print('''')\u001b[0m\n\u001b[0m               ^\u001b[0m\n\u001b[0;31mSyntaxError\u001b[0m\u001b[0;31m:\u001b[0m EOF while scanning triple-quoted string literal\n"
     ]
    }
   ],
   "source": [
    "print('''')"
   ]
  },
  {
   "cell_type": "code",
   "execution_count": 41,
   "metadata": {
    "colab": {
     "base_uri": "https://localhost:8080/",
     "height": 129
    },
    "executionInfo": {
     "elapsed": 615,
     "status": "error",
     "timestamp": 1614804113181,
     "user": {
      "displayName": "Tommy happy",
      "photoUrl": "",
      "userId": "04276742950120302566"
     },
     "user_tz": -180
    },
    "id": "-xdM27010wS7",
    "outputId": "c19000ef-b135-41c3-83c3-9683dc746617"
   },
   "outputs": [
    {
     "ename": "SyntaxError",
     "evalue": "ignored",
     "output_type": "error",
     "traceback": [
      "\u001b[0;36m  File \u001b[0;32m\"<ipython-input-41-c6d045ece466>\"\u001b[0;36m, line \u001b[0;32m1\u001b[0m\n\u001b[0;31m    print(''')\u001b[0m\n\u001b[0m              ^\u001b[0m\n\u001b[0;31mSyntaxError\u001b[0m\u001b[0;31m:\u001b[0m EOF while scanning triple-quoted string literal\n"
     ]
    }
   ],
   "source": [
    "print(''')"
   ]
  },
  {
   "cell_type": "code",
   "execution_count": 42,
   "metadata": {
    "colab": {
     "base_uri": "https://localhost:8080/"
    },
    "executionInfo": {
     "elapsed": 569,
     "status": "ok",
     "timestamp": 1614804731082,
     "user": {
      "displayName": "Tommy happy",
      "photoUrl": "",
      "userId": "04276742950120302566"
     },
     "user_tz": -180
    },
    "id": "1LDcVvJB0zFU",
    "outputId": "55cf1569-081a-41f4-f41c-320a8c353430"
   },
   "outputs": [
    {
     "name": "stdout",
     "output_type": "stream",
     "text": [
      "python enhancement proposal\n"
     ]
    }
   ],
   "source": [
    "print(\"python enhancement proposal\")"
   ]
  },
  {
   "cell_type": "code",
   "execution_count": null,
   "metadata": {
    "id": "1inwz2Xa3MI3"
   },
   "outputs": [],
   "source": []
  }
 ],
 "metadata": {
  "colab": {
   "authorship_tag": "ABX9TyM0U0lvXhNnpr5MPJS6G/9f",
   "name": "aiho ders 1.ipynb",
   "provenance": []
  },
  "kernelspec": {
   "display_name": "Python 3",
   "language": "python",
   "name": "python3"
  },
  "language_info": {
   "codemirror_mode": {
    "name": "ipython",
    "version": 3
   },
   "file_extension": ".py",
   "mimetype": "text/x-python",
   "name": "python",
   "nbconvert_exporter": "python",
   "pygments_lexer": "ipython3",
   "version": "3.8.5"
  }
 },
 "nbformat": 4,
 "nbformat_minor": 1
}

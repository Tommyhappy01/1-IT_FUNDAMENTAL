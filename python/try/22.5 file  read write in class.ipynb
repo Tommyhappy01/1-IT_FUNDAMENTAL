{
 "cells": [
  {
   "cell_type": "code",
   "execution_count": 1,
   "metadata": {},
   "outputs": [
    {
     "data": {
      "text/plain": [
       "'C:\\\\Users\\\\ÖKTEN\\\\Desktop\\\\my-github\\\\it_fundamentals\\\\python\\\\try'"
      ]
     },
     "execution_count": 1,
     "metadata": {},
     "output_type": "execute_result"
    }
   ],
   "source": [
    "pwd                       # cvs,txt,tsv,json,conll uzantılı olabilir.notepad de açılır"
   ]
  },
  {
   "cell_type": "code",
   "execution_count": null,
   "metadata": {},
   "outputs": [],
   "source": [
    "my_file = open(\"first_file.txt\", encoding=\"utf-8\")  \n",
    "\n",
    "  # hep yazılsın unutulmasın\n",
    "  # we've used 'utf8' encoding format just the same as the previous one"
   ]
  },
  {
   "cell_type": "code",
   "execution_count": null,
   "metadata": {},
   "outputs": [],
   "source": [
    "# mod : read(okur), write (yazar ama öncekini siler),  append(ekleme)"
   ]
  },
  {
   "cell_type": "code",
   "execution_count": 2,
   "metadata": {},
   "outputs": [],
   "source": [
    "sea= open(\"fishes.txt\",\"r\")"
   ]
  },
  {
   "cell_type": "code",
   "execution_count": 5,
   "metadata": {},
   "outputs": [
    {
     "name": "stdout",
     "output_type": "stream",
     "text": [
      "Orca is a kind of Dolphin.\n",
      "Blue Whale is the largest animal known on earth.\n",
      "Sharks are the sister group to the Rays (batoids).\n",
      "The Tuna Fish can weigh up to 260 kg.\n",
      "Squid and Octopus are in the same class.\n"
     ]
    }
   ],
   "source": [
    "print(sea.read())  #okuma yaptık+++öooooooooooooooooooolkkkkkkkkkkkııııııııı666666666"
   ]
  },
  {
   "cell_type": "code",
   "execution_count": null,
   "metadata": {},
   "outputs": [],
   "source": [
    "with"
   ]
  },
  {
   "cell_type": "code",
   "execution_count": 6,
   "metadata": {},
   "outputs": [
    {
     "name": "stdout",
     "output_type": "stream",
     "text": [
      "Orca is a kind of Dolphin.\n",
      "Blue W\n",
      "\n",
      "hale is the largest anima\n",
      "\n",
      "Orca is a kind of Dolphin.\n",
      "Blue W\n",
      "\n",
      "33\n"
     ]
    }
   ],
   "source": [
    "sea = open(\"fishes.txt\", 'r')   \n",
    "\n",
    "print(sea.read(33))  # displays the first 33 chars of the text\n",
    "print()\n",
    "print(sea.read(25))  # displays the next 25 chars of the text\n",
    "print()\n",
    "sea.seek(0)  # changes the stream (cursor) position to zero\n",
    "print(sea.read(33))  # displays the first 33 chars again\n",
    "print()\n",
    "print(sea.tell())  # returns the current stream (cursor) position\n",
    "\n",
    "sea.close()"
   ]
  },
  {
   "cell_type": "code",
   "execution_count": 27,
   "metadata": {},
   "outputs": [],
   "source": [
    "rumi=open(\"rumi.txt\",\"r\")"
   ]
  },
  {
   "cell_type": "code",
   "execution_count": 13,
   "metadata": {},
   "outputs": [],
   "source": [
    "rumi.read()\n",
    "rumi.close()"
   ]
  },
  {
   "cell_type": "code",
   "execution_count": 33,
   "metadata": {
    "scrolled": true
   },
   "outputs": [
    {
     "name": "stdout",
     "output_type": "stream",
     "text": [
      "I want to sing \n",
      "like the birds sing\n",
      ", \n",
      "not worryi\n",
      "50\n",
      "15\n",
      "\n",
      "like the birds sing, \n",
      "not worrying \n",
      "who hears or \n",
      "what they think -\n"
     ]
    }
   ],
   "source": [
    "rumi=open(\"rumi.txt\",\"r\")\n",
    "print(rumi.read(35))\n",
    "print(rumi.read(13))\n",
    "print(rumi.tell())\n",
    "print(rumi.seek(15))\n",
    "print(rumi.read())\n",
    "rumi.close()"
   ]
  },
  {
   "cell_type": "code",
   "execution_count": 37,
   "metadata": {},
   "outputs": [
    {
     "name": "stdout",
     "output_type": "stream",
     "text": [
      "I want to sing \n",
      "\n",
      "like the birds sing, \n",
      "\n",
      "not worrying \n",
      "\n",
      "who hears or \n",
      "\n"
     ]
    }
   ],
   "source": [
    "rumi=open(\"rumi.txt\",\"r\")\n",
    "print(rumi.readline())\n",
    "print(rumi.readline())\n",
    "print(rumi.readline())\n",
    "print(rumi.readline())"
   ]
  },
  {
   "cell_type": "code",
   "execution_count": 45,
   "metadata": {},
   "outputs": [
    {
     "name": "stdout",
     "output_type": "stream",
     "text": [
      "\n",
      "\n",
      "\n",
      "\n"
     ]
    }
   ],
   "source": [
    "sea=open(\"fishes.txt\",\"r\")\n",
    "print(sea.readline(13))\n",
    "print(sea.readline(13))\n",
    "print(sea.readline(13))  # 27  karakter okuyordu default \\n var boş satır yazar\n",
    "print(sea.readline(13))\n",
    "sea.close()"
   ]
  },
  {
   "cell_type": "code",
   "execution_count": 2,
   "metadata": {},
   "outputs": [
    {
     "name": "stdout",
     "output_type": "stream",
     "text": [
      "Orca is a kin\n",
      "d of Dolphin.\n",
      "\n",
      "\n",
      "Blue Whale is\n"
     ]
    }
   ],
   "source": [
    "sea=open(\"fishes.txt\",\"r\")\n",
    "print(sea.readline(13))    # ilk satırda 13  karakter okudu \n",
    "print(sea.readline(13))    # devam satırı bitirene kadar 13 lü okudu\n",
    "print(sea.readline(13))    # 27.  karakter okuyor default \\n var boş satır yazar\n",
    "print(sea.readline(13))    # satırı bitirene kadar 13 lü okudu\n",
    "sea.close()"
   ]
  },
  {
   "cell_type": "code",
   "execution_count": 11,
   "metadata": {},
   "outputs": [
    {
     "name": "stdout",
     "output_type": "stream",
     "text": [
      "I want to sing \n",
      "\n",
      "like the birds sing, \n",
      "\n",
      "not worrying about\n",
      "\n",
      "who hears or \n",
      "\n"
     ]
    }
   ],
   "source": [
    "rumi=open(\"rumi.txt\",\"r\")\n",
    "print(rumi.readline())\n",
    "print(rumi.readline())\n",
    "print(rumi.readline(18))\n",
    "print(rumi.readline())\n",
    "rumi.close()"
   ]
  },
  {
   "cell_type": "code",
   "execution_count": 15,
   "metadata": {},
   "outputs": [
    {
     "name": "stdout",
     "output_type": "stream",
     "text": [
      "['I want to sing \\n', 'like the birds sing, \\n', 'not worrying about\\n', 'who hears or \\n', 'what they think -']\n"
     ]
    }
   ],
   "source": [
    "rumi=open(\"rumi.txt\",\"r\")\n",
    "print(rumi.readlines())  #listede topladı\n",
    "rumi.close()"
   ]
  },
  {
   "cell_type": "code",
   "execution_count": 17,
   "metadata": {},
   "outputs": [
    {
     "name": "stdout",
     "output_type": "stream",
     "text": [
      "['Orca is a kind of Dolphin.\\n', 'Blue Whale is the largest animal known on earth.\\n', 'Sharks are the sister group to the Rays (batoids).\\n', 'The Tuna Fish can weigh up to 260 kg.\\n', 'Squid and Octopus are in the same class.']\n"
     ]
    }
   ],
   "source": [
    "sea=open(\"fishes.txt\",\"r\")\n",
    "print(sea.readlines())  #listede topladı\n",
    "sea.close()"
   ]
  },
  {
   "cell_type": "code",
   "execution_count": 26,
   "metadata": {},
   "outputs": [
    {
     "name": "stdout",
     "output_type": "stream",
     "text": [
      "Orca is a kind of Dolphin.\n",
      "\n",
      "Blue Whale is the largest animal known on earth.\n",
      "\n",
      "Sharks are the sister group to the Rays (batoids).\n",
      "\n",
      "The Tuna Fish can weigh up to 260 kg.\n",
      "\n",
      "Squid and Octopus are in the same class.\n"
     ]
    }
   ],
   "source": [
    "sea = open(\"fishes.txt\", 'r')   \n",
    "\n",
    "for line in sea:   # döngüde oldu\n",
    "    print(line)\n",
    "\n",
    "sea.close()"
   ]
  },
  {
   "cell_type": "code",
   "execution_count": 25,
   "metadata": {},
   "outputs": [
    {
     "name": "stdout",
     "output_type": "stream",
     "text": [
      "I want to sing \n",
      "\n",
      "like the birds sing, \n",
      "\n",
      "not worrying about\n",
      "\n",
      "who hears or \n",
      "\n",
      "what they think -\n"
     ]
    }
   ],
   "source": [
    "rumi= open(\"rumi.txt\")\n",
    "for i in rumi:    # readlines olarakta okuttuk\n",
    "    print(i)      # listeledi open ile\n",
    "    \n",
    "rumi.close()"
   ]
  },
  {
   "cell_type": "code",
   "execution_count": null,
   "metadata": {},
   "outputs": [],
   "source": []
  },
  {
   "cell_type": "code",
   "execution_count": 23,
   "metadata": {},
   "outputs": [
    {
     "name": "stdout",
     "output_type": "stream",
     "text": [
      "I want to sing \n",
      "\n",
      "like the birds sing, \n",
      "\n",
      "not worrying about\n",
      "\n",
      "who hears or \n",
      "\n",
      "what they think -\n"
     ]
    }
   ],
   "source": [
    "rumi= open(\"rumi.txt\")\n",
    "for i in rumi.readlines():  # readlines olarakta okuttuk\n",
    "    print(i)\n",
    "    \n",
    "rumi.close()"
   ]
  },
  {
   "cell_type": "code",
   "execution_count": null,
   "metadata": {},
   "outputs": [],
   "source": [
    "with open()  # otomatik close yaptığı için sorun yok  \n",
    "             # whit :::: unutma devamında blokkk"
   ]
  },
  {
   "cell_type": "code",
   "execution_count": 33,
   "metadata": {},
   "outputs": [
    {
     "name": "stdout",
     "output_type": "stream",
     "text": [
      "Orca is a kind of Dolphin.\n",
      "Blue Whale is the largest animal known on earth.\n",
      "Sharks are the sister group to the Rays (batoids).\n",
      "The Tuna Fish can weigh up to 260 kg.\n",
      "Squid and Octopus are in the same class.\n"
     ]
    }
   ],
   "source": [
    "with open(\"fishes.txt\",\"r\") as balık:\n",
    "      print(balık.read())  #listede topladı okuttuk ve kapattık\n",
    "# sea.close()   gerek kalmadı"
   ]
  },
  {
   "cell_type": "code",
   "execution_count": 37,
   "metadata": {},
   "outputs": [
    {
     "name": "stdout",
     "output_type": "stream",
     "text": [
      "Orca is a kind of Dolphin.\n",
      "Blue W\n",
      "hale is the largest animal known \n",
      "Orca is a kind of Dolphin.\n",
      "Blue W\n",
      "33\n"
     ]
    }
   ],
   "source": [
    "with open(\"fishes.txt\",\"r\") as sea:\n",
    "    print(sea.read(33))    # satır satır da okuduk\n",
    "    print(sea.read(33))\n",
    "    sea.seek(0)\n",
    "    print(sea.read(33))  \n",
    "    print(sea.tell())"
   ]
  },
  {
   "cell_type": "markdown",
   "metadata": {},
   "source": [
    "### write    \" a \"   ile \" w \" farklı   a açar varsa hata verir, w olursa karışır."
   ]
  },
  {
   "cell_type": "code",
   "execution_count": 38,
   "metadata": {},
   "outputs": [],
   "source": [
    "with open(\"benim_ilk _dosya.txt\", \"w\", encoding=\"utf-8\") as dosyam:\n",
    "    dosyam.write(\"Bu da benim ilk satırım\")"
   ]
  },
  {
   "cell_type": "code",
   "execution_count": 42,
   "metadata": {},
   "outputs": [
    {
     "name": "stdout",
     "output_type": "stream",
     "text": [
      "Bu da benim ilk satırım\n"
     ]
    }
   ],
   "source": [
    "with open(\"benim_ilk _dosya.txt\", \"r\", encoding=\"utf-8\") as dosyam:\n",
    "    print(dosyam.read())  #okuttuk"
   ]
  },
  {
   "cell_type": "code",
   "execution_count": 45,
   "metadata": {},
   "outputs": [],
   "source": [
    "with open(\"benim_ilk _dosya.txt\", \"w\", encoding=\"utf-8\") as dosyam:\n",
    "    dosyam.write(\"Bu da benim ilk satırım,\\n amma ikini satırım bu da.\\n bu da üçüncü satırım\")"
   ]
  },
  {
   "cell_type": "code",
   "execution_count": 46,
   "metadata": {},
   "outputs": [
    {
     "name": "stdout",
     "output_type": "stream",
     "text": [
      "1. satır2. satır3. satır\n",
      "4. satır\n"
     ]
    }
   ],
   "source": [
    "with open(\"benim_ilk _dosya.txt\", \"w\", encoding=\"utf-8\") as dosyam:\n",
    "    dosyam.write(\"1. satır\")\n",
    "    dosyam.write(\"2. satır\")\n",
    "    dosyam.write(\"3. satır\\n\")\n",
    "    dosyam.write(\"4. satır\")\n",
    "with open(\"benim_ilk _dosya.txt\", \"r\", encoding=\"utf-8\") as dosyam:\n",
    "    print(dosyam.read())  #okuttuk\n",
    "    "
   ]
  },
  {
   "cell_type": "code",
   "execution_count": 48,
   "metadata": {},
   "outputs": [],
   "source": [
    "fruits= [\"banana\",\"orange\",\"apple\",\"strawberry\",\"cherry\"]"
   ]
  },
  {
   "cell_type": "code",
   "execution_count": 50,
   "metadata": {},
   "outputs": [],
   "source": [
    "with open(\"fruits.txt\",\"w\", encoding = \"utf-8\") as file:\n",
    "    for i in fruits:\n",
    "        file.write(i+\"\\n\")  # oluştu satır satır ekledi"
   ]
  },
  {
   "cell_type": "code",
   "execution_count": null,
   "metadata": {},
   "outputs": [],
   "source": []
  },
  {
   "cell_type": "code",
   "execution_count": null,
   "metadata": {},
   "outputs": [],
   "source": []
  },
  {
   "cell_type": "code",
   "execution_count": null,
   "metadata": {},
   "outputs": [],
   "source": []
  },
  {
   "cell_type": "code",
   "execution_count": null,
   "metadata": {},
   "outputs": [],
   "source": []
  },
  {
   "cell_type": "code",
   "execution_count": null,
   "metadata": {},
   "outputs": [],
   "source": []
  },
  {
   "cell_type": "code",
   "execution_count": null,
   "metadata": {},
   "outputs": [],
   "source": []
  },
  {
   "cell_type": "code",
   "execution_count": null,
   "metadata": {},
   "outputs": [],
   "source": []
  },
  {
   "cell_type": "code",
   "execution_count": null,
   "metadata": {},
   "outputs": [],
   "source": []
  },
  {
   "cell_type": "code",
   "execution_count": null,
   "metadata": {},
   "outputs": [],
   "source": []
  },
  {
   "cell_type": "code",
   "execution_count": null,
   "metadata": {},
   "outputs": [],
   "source": []
  },
  {
   "cell_type": "code",
   "execution_count": null,
   "metadata": {},
   "outputs": [],
   "source": []
  },
  {
   "cell_type": "code",
   "execution_count": null,
   "metadata": {},
   "outputs": [],
   "source": []
  },
  {
   "cell_type": "code",
   "execution_count": null,
   "metadata": {},
   "outputs": [],
   "source": []
  },
  {
   "cell_type": "code",
   "execution_count": null,
   "metadata": {},
   "outputs": [],
   "source": []
  }
 ],
 "metadata": {
  "kernelspec": {
   "display_name": "Python 3",
   "language": "python",
   "name": "python3"
  },
  "language_info": {
   "codemirror_mode": {
    "name": "ipython",
    "version": 3
   },
   "file_extension": ".py",
   "mimetype": "text/x-python",
   "name": "python",
   "nbconvert_exporter": "python",
   "pygments_lexer": "ipython3",
   "version": "3.8.5"
  }
 },
 "nbformat": 4,
 "nbformat_minor": 4
}

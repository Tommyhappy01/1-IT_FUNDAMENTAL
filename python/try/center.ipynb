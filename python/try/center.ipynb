# -*- coding: utf-8 -*-
"""
Created on Fri Mar 26 23:06:55 2021

@author: ÖKTEN
"""

print("*","abcdef".center(40,"/"),"*")

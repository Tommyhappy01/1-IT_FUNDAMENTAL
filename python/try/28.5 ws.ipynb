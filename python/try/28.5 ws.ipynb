{
 "cells": [
  {
   "cell_type": "code",
   "execution_count": 18,
   "metadata": {},
   "outputs": [
    {
     "data": {
      "text/plain": [
       "10"
      ]
     },
     "execution_count": 18,
     "metadata": {},
     "output_type": "execute_result"
    }
   ],
   "source": [
    "import random\n",
    "random.randrange(0,91,5)"
   ]
  },
  {
   "cell_type": "code",
   "execution_count": 19,
   "metadata": {},
   "outputs": [
    {
     "name": "stdout",
     "output_type": "stream",
     "text": [
      "2\n"
     ]
    }
   ],
   "source": [
    "def foo():\n",
    "    try:\n",
    "        return 1\n",
    "    finally:\n",
    "        return 2\n",
    "k = foo()\n",
    "print(k)"
   ]
  },
  {
   "cell_type": "code",
   "execution_count": 20,
   "metadata": {},
   "outputs": [],
   "source": [
    "x=10\n",
    "y=8\n",
    "assert x>y, \"X too small\""
   ]
  },
  {
   "cell_type": "code",
   "execution_count": 46,
   "metadata": {},
   "outputs": [
    {
     "ename": "AssertionError",
     "evalue": "x too small",
     "output_type": "error",
     "traceback": [
      "\u001b[1;31m---------------------------------------------------------------------------\u001b[0m",
      "\u001b[1;31mAssertionError\u001b[0m                            Traceback (most recent call last)",
      "\u001b[1;32m<ipython-input-46-a728750f0ed5>\u001b[0m in \u001b[0;36m<module>\u001b[1;34m\u001b[0m\n\u001b[0;32m      1\u001b[0m \u001b[0mx\u001b[0m\u001b[1;33m=\u001b[0m\u001b[1;36m10\u001b[0m\u001b[1;33m\u001b[0m\u001b[1;33m\u001b[0m\u001b[0m\n\u001b[0;32m      2\u001b[0m \u001b[0my\u001b[0m\u001b[1;33m=\u001b[0m\u001b[1;36m80\u001b[0m\u001b[1;33m\u001b[0m\u001b[1;33m\u001b[0m\u001b[0m\n\u001b[1;32m----> 3\u001b[1;33m \u001b[1;32massert\u001b[0m \u001b[0mx\u001b[0m\u001b[1;33m>\u001b[0m\u001b[0my\u001b[0m\u001b[1;33m,\u001b[0m \u001b[1;34m\"x too small\"\u001b[0m\u001b[1;33m\u001b[0m\u001b[1;33m\u001b[0m\u001b[0m\n\u001b[0m",
      "\u001b[1;31mAssertionError\u001b[0m: x too small"
     ]
    }
   ],
   "source": [
    "x=10\n",
    "y=80\n",
    "assert x>y, \"x too small\""
   ]
  },
  {
   "cell_type": "code",
   "execution_count": 23,
   "metadata": {},
   "outputs": [
    {
     "ename": "SyntaxError",
     "evalue": "invalid syntax (<ipython-input-23-a2e484c5a5ec>, line 1)",
     "output_type": "error",
     "traceback": [
      "\u001b[1;36m  File \u001b[1;32m\"<ipython-input-23-a2e484c5a5ec>\"\u001b[1;36m, line \u001b[1;32m1\u001b[0m\n\u001b[1;33m    assert\u001b[0m\n\u001b[1;37m          ^\u001b[0m\n\u001b[1;31mSyntaxError\u001b[0m\u001b[1;31m:\u001b[0m invalid syntax\n"
     ]
    }
   ],
   "source": [
    "assert\n",
    "Bazen programımızda bir hata yaptığımızda bu hatayı bulmakta zorlanabiliriz. \n",
    "print fonksiyonunu kullanarak bu hatamızı bulmaya çalışabiliriz ancak bu da \n",
    "programımız ekrana çok fazla yazdırma işlemi yapıyorsa gözden kaçabilir. \n",
    "Böyle durumlarda assert ifadesini kullanabiliriz. assert ifadesi aynı zamanda\n",
    "hata yükseltmenin kısa bir yoludur. Ancak assert ifadesini kullanarak sadece\n",
    "AssertionError türünde bir hata yükseltebiliriz. Normalde raise kullanmamız \n",
    "daha doğru olacaktır. Dediğimiz gibi assert ifadesi hızlı bir şekilde kodumuzdaki\n",
    "hataları belirlemek için kullanılır. Şimdi şöyle bir kodumuz olduğunu düşünelim:\n",
    "\n",
    "giriş = input(\"Merhaba! Adın ne? \")\n",
    "if len(giriş) == 0:\n",
    "    raise AssertionError(\"İsim bölümü boş.\")\n",
    "print(\"Hoşgeldiniz.\")\n",
    "Bu kodu assert kullanarak şu şekilde de yazabilirdik:\n",
    "\n",
    "giriş = input(\"Merhaba! Adın ne? \")\n",
    "assert len(giriş) != 0 , \"İsim bölümü boş.\"\n",
    "print(\"Hoşgeldiniz.\")\n",
    "Dikkat ederseniz assert ifadesinin şu şekilde kullanıldığını görebilirsiniz:\n",
    "\n",
    "assert ifade , mesaj\n",
    "Burada ifade bir bool yani True veya False olabileceği gibi,\n",
    "(aynı if’deki gibi) bool fonksiyonu ile birlikte kullanılabilecek \n",
    "bir nesne de olabilir. Sonuç olarak eğer ifade’nin değeri \n",
    "True ise assert ifademiz çalışmayacak, False ise çalışacaktır. \n",
    "Yani assert ifademizin içine doğru olmasını istediğimiz durumu \n",
    "yazmalıyız ki eğer yanlış olursa hata yükseltsin. Zaten assert \n",
    "kelimesi “iddia etmek” anlamına gelir. Yani biz assert ifadesini\n",
    "kullanarak bir ifadenin doğru olduğunu iddia ediyoruz, bu iddiamız\n",
    "yanlış ise Python bir hata yükseltiyor. Ayrıca assert ifademiz \n",
    "çalıştığında bir hata yükseleceği için program da sonlanacaktır, \n",
    "yani bu özelliği istemediğimiz bir durum gerçekleştiğinde programı\n",
    "sonlandırmak için de kullanabiliriz. mesaj ise hata verildiğinde \n",
    "ekrana yazılmasını istediğimiz mesajdır. Tabii ki raise ifadesinde\n",
    "olduğu gibi burada da bir mesaj vermek zorunda değiliz. Yani assert \n",
    "ifadesini şu şekilde de kullanabiliriz:\n",
    "\n",
    "assert ifade\n",
    "Şimdi baştaki örneğimize geri dönersek:\n",
    "\n",
    "giriş = input(\"Merhaba! Adın ne? \")\n",
    "assert len(giriş) != 0 , \"İsim bölümü boş.\"\n",
    "print(\"Hoşgeldiniz.\")\n",
    "Bu kodumuzu çalıştırdığımızda:\n",
    "\n",
    "Merhaba! Adın ne? Ali\n",
    "Hoşgeldiniz.\n",
    ">>>\n",
    "giriş değişkenimizin uzunluğu 0 olmadığı için bir hata verilmedi. \n",
    "Şimdi aynı kodu çalıştırıp hiçbir şey yazmadan enter tuşuna basalım:\n",
    "\n",
    "Merhaba! Adın ne?\n",
    "Traceback (most recent call last):\n",
    "  File \"C:\\Users\\Kullanıcı\\Desktop\\assert_ifadesi.py\", line 2, in <module>\n",
    "    assert len(giriş) != 0 , \"İsim bölümü boş.\"\n",
    "AssertionError: İsim bölümü boş.\n",
    "Gördüğünüz gibi assert ifadesini de bu şeklide kullanıyoruz. Burada bir şeye dikkat etmek lazım ki assert bir fonksiyon değildir, bu yüzden parantezler ile şu şekilde kullanılmamalıdır:\n",
    "\n",
    "assert(ifade)\n",
    "Bu kullanım hata vermeyecek olsa da farkında olmadan -ileride öğreneceğimiz bir konu- bir demet oluşturmuş oluyoruz.\n",
    "\n",
    "Son olarak büyük bir proje yazdığımızda, şu örnekteki gibi:\n",
    "\n",
    "giriş = input(\"Merhaba! Adın ne? \")\n",
    "if len(giriş) == 0:\n",
    "    raise AssertionError(\"İsim bölümü boş.\")\n",
    "print(\"Hoşgeldiniz.\")"
   ]
  },
  {
   "cell_type": "code",
   "execution_count": 25,
   "metadata": {},
   "outputs": [
    {
     "name": "stdout",
     "output_type": "stream",
     "text": [
      "Merhaba! Adın ne? \n"
     ]
    },
    {
     "ename": "AssertionError",
     "evalue": "İsim bölümü boş.",
     "output_type": "error",
     "traceback": [
      "\u001b[1;31m---------------------------------------------------------------------------\u001b[0m",
      "\u001b[1;31mAssertionError\u001b[0m                            Traceback (most recent call last)",
      "\u001b[1;32m<ipython-input-25-7ff88dc02096>\u001b[0m in \u001b[0;36m<module>\u001b[1;34m\u001b[0m\n\u001b[0;32m      1\u001b[0m \u001b[0mgiriş\u001b[0m \u001b[1;33m=\u001b[0m \u001b[0minput\u001b[0m\u001b[1;33m(\u001b[0m\u001b[1;34m\"Merhaba! Adın ne? \"\u001b[0m\u001b[1;33m)\u001b[0m\u001b[1;33m\u001b[0m\u001b[1;33m\u001b[0m\u001b[0m\n\u001b[0;32m      2\u001b[0m \u001b[1;32mif\u001b[0m \u001b[0mlen\u001b[0m\u001b[1;33m(\u001b[0m\u001b[0mgiriş\u001b[0m\u001b[1;33m)\u001b[0m \u001b[1;33m==\u001b[0m \u001b[1;36m0\u001b[0m\u001b[1;33m:\u001b[0m\u001b[1;33m\u001b[0m\u001b[1;33m\u001b[0m\u001b[0m\n\u001b[1;32m----> 3\u001b[1;33m     \u001b[1;32mraise\u001b[0m \u001b[0mAssertionError\u001b[0m\u001b[1;33m(\u001b[0m\u001b[1;34m\"İsim bölümü boş.\"\u001b[0m\u001b[1;33m)\u001b[0m\u001b[1;33m\u001b[0m\u001b[1;33m\u001b[0m\u001b[0m\n\u001b[0m\u001b[0;32m      4\u001b[0m \u001b[0mprint\u001b[0m\u001b[1;33m(\u001b[0m\u001b[1;34m\"Hoşgeldiniz.\"\u001b[0m\u001b[1;33m)\u001b[0m\u001b[1;33m\u001b[0m\u001b[1;33m\u001b[0m\u001b[0m\n",
      "\u001b[1;31mAssertionError\u001b[0m: İsim bölümü boş."
     ]
    }
   ],
   "source": [
    "giriş = input(\"Merhaba! Adın ne? \")\n",
    "if len(giriş) == 0:\n",
    "    raise AssertionError(\"İsim bölümü boş.\")\n",
    "print(\"Hoşgeldiniz.\")"
   ]
  },
  {
   "cell_type": "code",
   "execution_count": 52,
   "metadata": {},
   "outputs": [
    {
     "name": "stdout",
     "output_type": "stream",
     "text": [
      "Merhaba! Adın ne? \n",
      "merha\n"
     ]
    }
   ],
   "source": [
    "giriş = input(\"Merhaba! Adın ne? \")\n",
    "if len(giriş)==0:\n",
    "    assert AssertionError(\"hatalı giriş\")\n",
    "print(\"merha\")"
   ]
  },
  {
   "cell_type": "code",
   "execution_count": null,
   "metadata": {},
   "outputs": [],
   "source": [
    ". Which of the following is not an exception handling keyword in Python?\n",
    "A. try     blok kısmı\n",
    "B. except  hata olduğu kısım\n",
    "C. accept  ---------\n",
    "D. finally her durumda yazılan alan"
   ]
  },
  {
   "cell_type": "code",
   "execution_count": 30,
   "metadata": {},
   "outputs": [
    {
     "name": "stdout",
     "output_type": "stream",
     "text": [
      "Enter a number20\n",
      "Bye\n"
     ]
    }
   ],
   "source": [
    "valid = False\n",
    "while not valid:\n",
    "    try:\n",
    "        n=int(input(\"Enter a number\"))\n",
    "        while n%2==0:\n",
    "            print(\"Bye\")\n",
    "            break\n",
    "        valid = True\n",
    "    except ValueError:\n",
    "        print(\"Invalid\")"
   ]
  },
  {
   "cell_type": "code",
   "execution_count": 33,
   "metadata": {},
   "outputs": [
    {
     "data": {
      "text/plain": [
       "432"
      ]
     },
     "execution_count": 33,
     "metadata": {},
     "output_type": "execute_result"
    }
   ],
   "source": [
    "def f(x, y, z): \n",
    "    return x + y + z\n",
    "f(2, 30, 400)"
   ]
  },
  {
   "cell_type": "code",
   "execution_count": 2,
   "metadata": {},
   "outputs": [
    {
     "data": {
      "text/plain": [
       "{0, 1, 4, 9}"
      ]
     },
     "execution_count": 2,
     "metadata": {},
     "output_type": "execute_result"
    }
   ],
   "source": [
    "{a**2 for a in range(4)}  # range de 0 dan n-1 e kadar"
   ]
  },
  {
   "cell_type": "code",
   "execution_count": 41,
   "metadata": {},
   "outputs": [
    {
     "name": "stdout",
     "output_type": "stream",
     "text": [
      "[10, 23, 56, [78]]\n"
     ]
    }
   ],
   "source": [
    "import copy\n",
    "a=[10,23,56,[78]]\n",
    "b=copy.deepcopy(a)\n",
    "a[3][0]=95\n",
    "a[1]=34\n",
    "print(b)\n",
    "\n",
    "# a listesindekiler değişsede b ye etki etmedi deepcopy farklı liste ıd farklı"
   ]
  },
  {
   "cell_type": "code",
   "execution_count": null,
   "metadata": {},
   "outputs": [],
   "source": [
    "copy()\n",
    "Diyelim ki elimizde şöyle bir sözlük var:\n",
    "\n",
    ">>> hava_durumu = {\"İstanbul\": \"yağmurlu\", \"Adana\": \"güneşli\", ... \"İzmir\": \"bulutlu\"}\n",
    "Biz bu sözlüğü kopyalamak istiyoruz. Hemen şöyle bir şey deneyelim:\n",
    "\n",
    ">>> yedek_hava_durumu = hava_durumu\n",
    "Artık elimizde aynı sözlükten iki tane var:\n",
    "\n",
    ">>> hava_durumu\n",
    "\n",
    "{'İstanbul': 'yağmurlu', 'Adana': 'güneşli', 'İzmir': 'bulutlu'}\n",
    "\n",
    ">>> yedek_hava_durumu\n",
    "\n",
    "{'İstanbul': 'yağmurlu', 'Adana': 'güneşli', 'İzmir': 'bulutlu'}\n",
    "Şimdi hava_durumu adlı sözlüğe bir öğe ekleyelim:\n",
    "\n",
    ">>> hava_durumu[\"Mersin\"] = \"sisli\"\n",
    "\n",
    ">>> hava_durumu\n",
    "\n",
    "{'İstanbul': 'yağmurlu', 'Adana': 'güneşli', 'Mersin': 'sisli', 'İzmir': 'bulutlu'}\n",
    "Şimdi bir de yedek_hava_durumu adlı sözlüğün durumuna bakalım:\n",
    "\n",
    ">>> yedek_hava_durumu\n",
    "\n",
    "{'İstanbul': 'yağmurlu', 'Adana': 'güneşli', 'Mersin': 'sisli', 'İzmir': 'bulutlu'}\n",
    "Gördüğünüz gibi, hava_durumu adlı sözlüğe yaptığımız ekleme yedek_hava_durumu adlı sözlüğü de \n",
    "etkiledi.Hatırlarsanız buna benzer bir durumla daha önce listeleri anlatırken de karşılaşmıştık.\n",
    "Çünkü varolan bir sözlüğü veya listeyi başka bir değişkene atadığımızda aslında yaptığımız şey \n",
    "bir kopyalama işleminden ziyade bellekteki aynı nesneye gönderme yapan iki farklı isim belirlemekten\n",
    "ibaret. Yani sözlüğümüzü bellekteki bir nesne olarak düşünürsek, bu nesneye atıfta bulunan,\n",
    "“hava_durumu” ve “yedek_hava_durumu” adlı iki farklı isim belirlemiş oluyoruz. Eğer istediğimiz\n",
    "şey bellekteki nesneden iki adet oluşturmak ve bu iki farklı nesneyi iki farklı isimle adlandırmak \n",
    "ise yukarıdaki yöntemi kullanmak istemediğiniz sonuçlar doğurabilir. Yani amacınız bir sözlüğü\n",
    "yedekleyip orijinal sözlüğü korumaksa ve yukarıdaki yöntemi kullandıysanız, hiç farkında olmadan\n",
    "orijinal sözlüğü de değiştirebilirsiniz. İşte böyle durumlarda imdadımıza sözlüklerin “copy” metodu \n",
    "yetişecek. Bu metodu kullanarak varolan bir sözlüğü gerçek anlamda kopyalayabilir, yani \n",
    "yedekleyebiliriz…\n",
    "\n",
    ">>> hava_durumu = {\"İstanbul\": \"yağmurlu\", \"Adana\": \"güneşli\", ... \"İzmir\": \"bulutlu\"}\n",
    "Şimdi bu sözlüğü yedekliyoruz. Yani kopyalıyoruz:\n",
    "\n",
    ">>> yedek_hava_durumu = hava_durumu.copy()\n",
    "Bakalım hava_durumu adlı sözlüğe ekleme yapınca yedek_hava_durumu adlı sözlüğün durumu ne oluyor?\n",
    "\n",
    ">>> hava_durumu[\"Mersin\"] = \"sisli\"\n",
    "\n",
    ">>> hava_durumu\n",
    "\n",
    "{'İstanbul': 'yağmurlu', 'Adana': 'güneşli', 'Mersin': 'sisli', 'İzmir':\n",
    "'bulutlu'}\n",
    "yedek_hava_durumu adlı sözlüğe bakalım:\n",
    "\n",
    ">>> yedek_hava_durumu\n",
    "\n",
    "{'İstanbul': 'yağmurlu', 'Adana': 'güneşli', 'İzmir': 'bulutlu'}\n",
    "Gördüğünüz gibi bu defa sözlüklerin birinde yapılan değişiklik öbürünü etkilemedi… \n",
    "copy metodu sağolsun!…"
   ]
  },
  {
   "cell_type": "code",
   "execution_count": 42,
   "metadata": {},
   "outputs": [
    {
     "name": "stdout",
     "output_type": "stream",
     "text": [
      "[1, 3, 6, 10]\n"
     ]
    }
   ],
   "source": [
    "a=[1,2,3,4]\n",
    "b=[sum(a[0:x+1]) for x in range(0,len(a))]\n",
    "print(b)"
   ]
  },
  {
   "cell_type": "code",
   "execution_count": 70,
   "metadata": {},
   "outputs": [
    {
     "name": "stdout",
     "output_type": "stream",
     "text": [
      "[1, 3, 6, 10]\n"
     ]
    }
   ],
   "source": [
    "a=[1,2,3,4]\n",
    "b=[sum(a[0:i+1])for i in range(len(a))]\n",
    "print(b)"
   ]
  },
  {
   "cell_type": "code",
   "execution_count": 4,
   "metadata": {},
   "outputs": [
    {
     "name": "stdout",
     "output_type": "stream",
     "text": [
      "abcefd\n"
     ]
    }
   ],
   "source": [
    "print('abcefd'.replace('cd', '12')) # cd yi bulamadı"
   ]
  },
  {
   "cell_type": "code",
   "execution_count": 5,
   "metadata": {},
   "outputs": [
    {
     "name": "stdout",
     "output_type": "stream",
     "text": [
      "ab12efd\n"
     ]
    }
   ],
   "source": [
    "print('abcefd'.replace('c', '12')) # c i buldu"
   ]
  },
  {
   "cell_type": "code",
   "execution_count": 45,
   "metadata": {},
   "outputs": [
    {
     "name": "stdout",
     "output_type": "stream",
     "text": [
      "12efd\n"
     ]
    }
   ],
   "source": [
    "print('abcefd'.replace('abc', '12')) # c i buldu"
   ]
  },
  {
   "cell_type": "code",
   "execution_count": null,
   "metadata": {},
   "outputs": [],
   "source": []
  }
 ],
 "metadata": {
  "kernelspec": {
   "display_name": "Python 3",
   "language": "python",
   "name": "python3"
  },
  "language_info": {
   "codemirror_mode": {
    "name": "ipython",
    "version": 3
   },
   "file_extension": ".py",
   "mimetype": "text/x-python",
   "name": "python",
   "nbconvert_exporter": "python",
   "pygments_lexer": "ipython3",
   "version": "3.8.5"
  }
 },
 "nbformat": 4,
 "nbformat_minor": 4
}

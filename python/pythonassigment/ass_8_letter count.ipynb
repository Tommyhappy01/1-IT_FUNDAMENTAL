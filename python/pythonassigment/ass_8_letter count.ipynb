{
 "cells": [
  {
   "cell_type": "code",
   "execution_count": 38,
   "metadata": {},
   "outputs": [
    {
     "name": "stdout",
     "output_type": "stream",
     "text": [
      "{'H': 1, 'i': 1, 'p': 2, 'o': 2, ' ': 3, 'r': 1, 'u': 2, 'n': 1, 't': 1, 's': 1, '!': 1}\n"
     ]
    }
   ],
   "source": [
    "letter=list(\"Hippo run to us!\")\n",
    "dict={}\n",
    "counter= 0\n",
    "for i in letter:\n",
    "        dict[i]= letter.count(i)\n",
    "print(dict)"
   ]
  },
  {
   "cell_type": "code",
   "execution_count": null,
   "metadata": {},
   "outputs": [],
   "source": [
    "letter=\"Hippo run to us!\"\n",
    "letter1 =list(letter)\n",
    "letter1"
   ]
  },
  {
   "cell_type": "code",
   "execution_count": null,
   "metadata": {},
   "outputs": [],
   "source": [
    "def count_letters(word, char):\n",
    "    return word.count(char)\n",
    "\n",
    "text = input()\n",
    "text_split = text.split()\n",
    "list1 = []\n",
    "list2 = []\n",
    "for i in text_split:\n",
    "    for j in i:\n",
    "        counter = count_letters (text, j)\n",
    "        list1.append(j)\n",
    "        list2.append(counter)\n",
    "dictn = dict(zip(list1, list2))\n",
    "df = pd.DataFrame (dictn.items(), columns = ['char', 'freq.'])\n",
    "print (df)"
   ]
  },
  {
   "cell_type": "code",
   "execution_count": 37,
   "metadata": {},
   "outputs": [
    {
     "name": "stdout",
     "output_type": "stream",
     "text": [
      "kdssf gfsdgf sdgfds\n",
      "{'k': 1, 'd': 4, 's': 5, 'f': 4, ' ': 2, 'g': 3}\n"
     ]
    }
   ],
   "source": [
    "text = input()\n",
    "dict = {}\n",
    "#your code goes here\n",
    "for char in text:\n",
    "    dict[char] = text.count(char)\n",
    "    \n",
    "print(dict)\n"
   ]
  },
  {
   "cell_type": "code",
   "execution_count": 81,
   "metadata": {},
   "outputs": [
    {
     "data": {
      "text/plain": [
       "'cylaruswa'"
      ]
     },
     "execution_count": 81,
     "metadata": {},
     "output_type": "execute_result"
    }
   ],
   "source": [
    "def front_back(word):\n",
    "    word1 = word.replace(word[-1],word[0])\n",
    "    word2 = word.replace(word[0],word[-1])\n",
    "    return(word1[-1:]+word2[:-1])      \n",
    "front_back(\"clarusway\")"
   ]
  },
  {
   "cell_type": "code",
   "execution_count": 86,
   "metadata": {},
   "outputs": [
    {
     "data": {
      "text/plain": [
       "'ylarusway'"
      ]
     },
     "execution_count": 86,
     "metadata": {},
     "output_type": "execute_result"
    }
   ],
   "source": [
    "def front_back(word):\n",
    "        word2 = word.replace(word[0],word[-1])\n",
    "        return word2     \n",
    "front_back(\"clarusway\")"
   ]
  },
  {
   "cell_type": "code",
   "execution_count": null,
   "metadata": {},
   "outputs": [],
   "source": []
  }
 ],
 "metadata": {
  "kernelspec": {
   "display_name": "Python 3",
   "language": "python",
   "name": "python3"
  },
  "language_info": {
   "codemirror_mode": {
    "name": "ipython",
    "version": 3
   },
   "file_extension": ".py",
   "mimetype": "text/x-python",
   "name": "python",
   "nbconvert_exporter": "python",
   "pygments_lexer": "ipython3",
   "version": "3.8.5"
  }
 },
 "nbformat": 4,
 "nbformat_minor": 4
}
